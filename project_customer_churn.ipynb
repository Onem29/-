{
 "cells": [
  {
   "cell_type": "markdown",
   "metadata": {
    "tags": []
   },
   "source": [
    "# Проект \"Отток клиентов\""
   ]
  },
  {
   "cell_type": "markdown",
   "metadata": {
    "tags": [],
    "toc": true
   },
   "source": [
    "<h1>Содержание<span class=\"tocSkip\"></span></h1>\n",
    "<div class=\"toc\"><ul class=\"toc-item\"><li><span><a href=\"#Подготовка-данных\" data-toc-modified-id=\"Подготовка-данных-1\"><span class=\"toc-item-num\">1&nbsp;&nbsp;</span>Подготовка данных</a></span><ul class=\"toc-item\"><li><span><a href=\"#Обзор-данных-проекта\" data-toc-modified-id=\"Обзор-данных-проекта-1.1\"><span class=\"toc-item-num\">1.1&nbsp;&nbsp;</span>Обзор данных проекта</a></span></li><li><span><a href=\"#Предобработка-данных\" data-toc-modified-id=\"Предобработка-данных-1.2\"><span class=\"toc-item-num\">1.2&nbsp;&nbsp;</span>Предобработка данных</a></span></li><li><span><a href=\"#Вывод:\" data-toc-modified-id=\"Вывод:-1.3\"><span class=\"toc-item-num\">1.3&nbsp;&nbsp;</span>Вывод:</a></span></li></ul></li><li><span><a href=\"#Исследование-задачи\" data-toc-modified-id=\"Исследование-задачи-2\"><span class=\"toc-item-num\">2&nbsp;&nbsp;</span>Исследование задачи</a></span></li><li><span><a href=\"#Борьба-с-дисбалансом\" data-toc-modified-id=\"Борьба-с-дисбалансом-3\"><span class=\"toc-item-num\">3&nbsp;&nbsp;</span>Борьба с дисбалансом</a></span><ul class=\"toc-item\"><li><span><a href=\"#Метод-Upsampling\" data-toc-modified-id=\"Метод-Upsampling-3.1\"><span class=\"toc-item-num\">3.1&nbsp;&nbsp;</span>Метод Upsampling</a></span></li><li><span><a href=\"#Метод-Downsampling\" data-toc-modified-id=\"Метод-Downsampling-3.2\"><span class=\"toc-item-num\">3.2&nbsp;&nbsp;</span>Метод Downsampling</a></span></li><li><span><a href=\"#Использование-моделей-с-взвешенными-признаками\" data-toc-modified-id=\"Использование-моделей-с-взвешенными-признаками-3.3\"><span class=\"toc-item-num\">3.3&nbsp;&nbsp;</span>Использование моделей с взвешенными признаками</a></span></li><li><span><a href=\"#Настройка-модели-&quot;Случайный-лес&quot;\" data-toc-modified-id=\"Настройка-модели-&quot;Случайный-лес&quot;-3.4\"><span class=\"toc-item-num\">3.4&nbsp;&nbsp;</span>Настройка модели \"Случайный лес\"</a></span></li><li><span><a href=\"#Вывод:\" data-toc-modified-id=\"Вывод:-3.5\"><span class=\"toc-item-num\">3.5&nbsp;&nbsp;</span>Вывод:</a></span></li></ul></li><li><span><a href=\"#Тестирование-модели\" data-toc-modified-id=\"Тестирование-модели-4\"><span class=\"toc-item-num\">4&nbsp;&nbsp;</span>Тестирование модели</a></span></li><li><span><a href=\"#Вывод:\" data-toc-modified-id=\"Вывод:-5\"><span class=\"toc-item-num\">5&nbsp;&nbsp;</span>Вывод:</a></span></li><li><span><a href=\"#Чек-лист-готовности-проекта\" data-toc-modified-id=\"Чек-лист-готовности-проекта-6\"><span class=\"toc-item-num\">6&nbsp;&nbsp;</span>Чек-лист готовности проекта</a></span></li></ul></div>"
   ]
  },
  {
   "cell_type": "markdown",
   "metadata": {},
   "source": [
    "## Подготовка данных"
   ]
  },
  {
   "cell_type": "markdown",
   "metadata": {},
   "source": [
    "### Обзор данных проекта"
   ]
  },
  {
   "cell_type": "code",
   "execution_count": 8,
   "metadata": {},
   "outputs": [],
   "source": [
    "# импортируем необходимые библиотеки\n",
    "import pandas as pd\n",
    "import numpy as np\n",
    "from matplotlib import pyplot as plt\n",
    "\n",
    "import seaborn as sns\n",
    "\n",
    "from sklearn.metrics import f1_score\n",
    "from sklearn.preprocessing import OrdinalEncoder\n",
    "from sklearn.preprocessing import StandardScaler\n",
    "\n",
    "from sklearn.model_selection import GridSearchCV\n",
    "from sklearn.model_selection import cross_validate\n",
    "from sklearn.model_selection import cross_val_score\n",
    "from sklearn.model_selection import train_test_split\n",
    "\n",
    "from sklearn.linear_model import LogisticRegression\n",
    "from sklearn.ensemble import RandomForestClassifier\n",
    "\n",
    "from sklearn import metrics\n",
    "from sklearn.metrics import roc_curve\n",
    "from sklearn.metrics import roc_auc_score\n",
    "from sklearn.metrics import f1_score\n",
    "from sklearn.metrics import accuracy_score\n",
    "from sklearn.metrics import precision_score\n",
    "from sklearn.metrics import recall_score\n",
    "\n",
    "from sklearn.utils import shuffle"
   ]
  },
  {
   "cell_type": "code",
   "execution_count": 7,
   "metadata": {},
   "outputs": [
    {
     "name": "stdout",
     "output_type": "stream",
     "text": [
      "\n",
      "\u001b[1mПервые строки датафрейма\u001b[0m\n"
     ]
    },
    {
     "data": {
      "text/html": [
       "<div>\n",
       "<style scoped>\n",
       "    .dataframe tbody tr th:only-of-type {\n",
       "        vertical-align: middle;\n",
       "    }\n",
       "\n",
       "    .dataframe tbody tr th {\n",
       "        vertical-align: top;\n",
       "    }\n",
       "\n",
       "    .dataframe thead th {\n",
       "        text-align: right;\n",
       "    }\n",
       "</style>\n",
       "<table border=\"1\" class=\"dataframe\">\n",
       "  <thead>\n",
       "    <tr style=\"text-align: right;\">\n",
       "      <th></th>\n",
       "      <th>RowNumber</th>\n",
       "      <th>CustomerId</th>\n",
       "      <th>Surname</th>\n",
       "      <th>CreditScore</th>\n",
       "      <th>Geography</th>\n",
       "      <th>Gender</th>\n",
       "      <th>Age</th>\n",
       "      <th>Tenure</th>\n",
       "      <th>Balance</th>\n",
       "      <th>NumOfProducts</th>\n",
       "      <th>HasCrCard</th>\n",
       "      <th>IsActiveMember</th>\n",
       "      <th>EstimatedSalary</th>\n",
       "      <th>Exited</th>\n",
       "    </tr>\n",
       "  </thead>\n",
       "  <tbody>\n",
       "    <tr>\n",
       "      <th>0</th>\n",
       "      <td>1</td>\n",
       "      <td>15634602</td>\n",
       "      <td>Hargrave</td>\n",
       "      <td>619</td>\n",
       "      <td>France</td>\n",
       "      <td>Female</td>\n",
       "      <td>42</td>\n",
       "      <td>2.0</td>\n",
       "      <td>0.00</td>\n",
       "      <td>1</td>\n",
       "      <td>1</td>\n",
       "      <td>1</td>\n",
       "      <td>101348.88</td>\n",
       "      <td>1</td>\n",
       "    </tr>\n",
       "    <tr>\n",
       "      <th>1</th>\n",
       "      <td>2</td>\n",
       "      <td>15647311</td>\n",
       "      <td>Hill</td>\n",
       "      <td>608</td>\n",
       "      <td>Spain</td>\n",
       "      <td>Female</td>\n",
       "      <td>41</td>\n",
       "      <td>1.0</td>\n",
       "      <td>83807.86</td>\n",
       "      <td>1</td>\n",
       "      <td>0</td>\n",
       "      <td>1</td>\n",
       "      <td>112542.58</td>\n",
       "      <td>0</td>\n",
       "    </tr>\n",
       "    <tr>\n",
       "      <th>2</th>\n",
       "      <td>3</td>\n",
       "      <td>15619304</td>\n",
       "      <td>Onio</td>\n",
       "      <td>502</td>\n",
       "      <td>France</td>\n",
       "      <td>Female</td>\n",
       "      <td>42</td>\n",
       "      <td>8.0</td>\n",
       "      <td>159660.80</td>\n",
       "      <td>3</td>\n",
       "      <td>1</td>\n",
       "      <td>0</td>\n",
       "      <td>113931.57</td>\n",
       "      <td>1</td>\n",
       "    </tr>\n",
       "    <tr>\n",
       "      <th>3</th>\n",
       "      <td>4</td>\n",
       "      <td>15701354</td>\n",
       "      <td>Boni</td>\n",
       "      <td>699</td>\n",
       "      <td>France</td>\n",
       "      <td>Female</td>\n",
       "      <td>39</td>\n",
       "      <td>1.0</td>\n",
       "      <td>0.00</td>\n",
       "      <td>2</td>\n",
       "      <td>0</td>\n",
       "      <td>0</td>\n",
       "      <td>93826.63</td>\n",
       "      <td>0</td>\n",
       "    </tr>\n",
       "    <tr>\n",
       "      <th>4</th>\n",
       "      <td>5</td>\n",
       "      <td>15737888</td>\n",
       "      <td>Mitchell</td>\n",
       "      <td>850</td>\n",
       "      <td>Spain</td>\n",
       "      <td>Female</td>\n",
       "      <td>43</td>\n",
       "      <td>2.0</td>\n",
       "      <td>125510.82</td>\n",
       "      <td>1</td>\n",
       "      <td>1</td>\n",
       "      <td>1</td>\n",
       "      <td>79084.10</td>\n",
       "      <td>0</td>\n",
       "    </tr>\n",
       "  </tbody>\n",
       "</table>\n",
       "</div>"
      ],
      "text/plain": [
       "   RowNumber  CustomerId   Surname  CreditScore Geography  Gender  Age  \\\n",
       "0          1    15634602  Hargrave          619    France  Female   42   \n",
       "1          2    15647311      Hill          608     Spain  Female   41   \n",
       "2          3    15619304      Onio          502    France  Female   42   \n",
       "3          4    15701354      Boni          699    France  Female   39   \n",
       "4          5    15737888  Mitchell          850     Spain  Female   43   \n",
       "\n",
       "   Tenure    Balance  NumOfProducts  HasCrCard  IsActiveMember  \\\n",
       "0     2.0       0.00              1          1               1   \n",
       "1     1.0   83807.86              1          0               1   \n",
       "2     8.0  159660.80              3          1               0   \n",
       "3     1.0       0.00              2          0               0   \n",
       "4     2.0  125510.82              1          1               1   \n",
       "\n",
       "   EstimatedSalary  Exited  \n",
       "0        101348.88       1  \n",
       "1        112542.58       0  \n",
       "2        113931.57       1  \n",
       "3         93826.63       0  \n",
       "4         79084.10       0  "
      ]
     },
     "metadata": {},
     "output_type": "display_data"
    },
    {
     "name": "stdout",
     "output_type": "stream",
     "text": [
      "\n",
      "\u001b[1mИнформация о датафрейме\u001b[0m\n",
      "\n",
      "<class 'pandas.core.frame.DataFrame'>\n",
      "RangeIndex: 10000 entries, 0 to 9999\n",
      "Data columns (total 14 columns):\n",
      " #   Column           Non-Null Count  Dtype  \n",
      "---  ------           --------------  -----  \n",
      " 0   RowNumber        10000 non-null  int64  \n",
      " 1   CustomerId       10000 non-null  int64  \n",
      " 2   Surname          10000 non-null  object \n",
      " 3   CreditScore      10000 non-null  int64  \n",
      " 4   Geography        10000 non-null  object \n",
      " 5   Gender           10000 non-null  object \n",
      " 6   Age              10000 non-null  int64  \n",
      " 7   Tenure           9091 non-null   float64\n",
      " 8   Balance          10000 non-null  float64\n",
      " 9   NumOfProducts    10000 non-null  int64  \n",
      " 10  HasCrCard        10000 non-null  int64  \n",
      " 11  IsActiveMember   10000 non-null  int64  \n",
      " 12  EstimatedSalary  10000 non-null  float64\n",
      " 13  Exited           10000 non-null  int64  \n",
      "dtypes: float64(3), int64(8), object(3)\n",
      "memory usage: 1.1+ MB\n",
      "None\n",
      "\n",
      "\u001b[1mОсновные описательные характеристика датафрейма\u001b[0m\n"
     ]
    },
    {
     "data": {
      "text/html": [
       "<div>\n",
       "<style scoped>\n",
       "    .dataframe tbody tr th:only-of-type {\n",
       "        vertical-align: middle;\n",
       "    }\n",
       "\n",
       "    .dataframe tbody tr th {\n",
       "        vertical-align: top;\n",
       "    }\n",
       "\n",
       "    .dataframe thead th {\n",
       "        text-align: right;\n",
       "    }\n",
       "</style>\n",
       "<table border=\"1\" class=\"dataframe\">\n",
       "  <thead>\n",
       "    <tr style=\"text-align: right;\">\n",
       "      <th></th>\n",
       "      <th>RowNumber</th>\n",
       "      <th>CustomerId</th>\n",
       "      <th>CreditScore</th>\n",
       "      <th>Age</th>\n",
       "      <th>Tenure</th>\n",
       "      <th>Balance</th>\n",
       "      <th>NumOfProducts</th>\n",
       "      <th>HasCrCard</th>\n",
       "      <th>IsActiveMember</th>\n",
       "      <th>EstimatedSalary</th>\n",
       "      <th>Exited</th>\n",
       "    </tr>\n",
       "  </thead>\n",
       "  <tbody>\n",
       "    <tr>\n",
       "      <th>count</th>\n",
       "      <td>10000.00000</td>\n",
       "      <td>1.000000e+04</td>\n",
       "      <td>10000.000000</td>\n",
       "      <td>10000.000000</td>\n",
       "      <td>9091.000000</td>\n",
       "      <td>10000.000000</td>\n",
       "      <td>10000.000000</td>\n",
       "      <td>10000.00000</td>\n",
       "      <td>10000.000000</td>\n",
       "      <td>10000.000000</td>\n",
       "      <td>10000.000000</td>\n",
       "    </tr>\n",
       "    <tr>\n",
       "      <th>mean</th>\n",
       "      <td>5000.50000</td>\n",
       "      <td>1.569094e+07</td>\n",
       "      <td>650.528800</td>\n",
       "      <td>38.921800</td>\n",
       "      <td>4.997690</td>\n",
       "      <td>76485.889288</td>\n",
       "      <td>1.530200</td>\n",
       "      <td>0.70550</td>\n",
       "      <td>0.515100</td>\n",
       "      <td>100090.239881</td>\n",
       "      <td>0.203700</td>\n",
       "    </tr>\n",
       "    <tr>\n",
       "      <th>std</th>\n",
       "      <td>2886.89568</td>\n",
       "      <td>7.193619e+04</td>\n",
       "      <td>96.653299</td>\n",
       "      <td>10.487806</td>\n",
       "      <td>2.894723</td>\n",
       "      <td>62397.405202</td>\n",
       "      <td>0.581654</td>\n",
       "      <td>0.45584</td>\n",
       "      <td>0.499797</td>\n",
       "      <td>57510.492818</td>\n",
       "      <td>0.402769</td>\n",
       "    </tr>\n",
       "    <tr>\n",
       "      <th>min</th>\n",
       "      <td>1.00000</td>\n",
       "      <td>1.556570e+07</td>\n",
       "      <td>350.000000</td>\n",
       "      <td>18.000000</td>\n",
       "      <td>0.000000</td>\n",
       "      <td>0.000000</td>\n",
       "      <td>1.000000</td>\n",
       "      <td>0.00000</td>\n",
       "      <td>0.000000</td>\n",
       "      <td>11.580000</td>\n",
       "      <td>0.000000</td>\n",
       "    </tr>\n",
       "    <tr>\n",
       "      <th>25%</th>\n",
       "      <td>2500.75000</td>\n",
       "      <td>1.562853e+07</td>\n",
       "      <td>584.000000</td>\n",
       "      <td>32.000000</td>\n",
       "      <td>2.000000</td>\n",
       "      <td>0.000000</td>\n",
       "      <td>1.000000</td>\n",
       "      <td>0.00000</td>\n",
       "      <td>0.000000</td>\n",
       "      <td>51002.110000</td>\n",
       "      <td>0.000000</td>\n",
       "    </tr>\n",
       "    <tr>\n",
       "      <th>50%</th>\n",
       "      <td>5000.50000</td>\n",
       "      <td>1.569074e+07</td>\n",
       "      <td>652.000000</td>\n",
       "      <td>37.000000</td>\n",
       "      <td>5.000000</td>\n",
       "      <td>97198.540000</td>\n",
       "      <td>1.000000</td>\n",
       "      <td>1.00000</td>\n",
       "      <td>1.000000</td>\n",
       "      <td>100193.915000</td>\n",
       "      <td>0.000000</td>\n",
       "    </tr>\n",
       "    <tr>\n",
       "      <th>75%</th>\n",
       "      <td>7500.25000</td>\n",
       "      <td>1.575323e+07</td>\n",
       "      <td>718.000000</td>\n",
       "      <td>44.000000</td>\n",
       "      <td>7.000000</td>\n",
       "      <td>127644.240000</td>\n",
       "      <td>2.000000</td>\n",
       "      <td>1.00000</td>\n",
       "      <td>1.000000</td>\n",
       "      <td>149388.247500</td>\n",
       "      <td>0.000000</td>\n",
       "    </tr>\n",
       "    <tr>\n",
       "      <th>max</th>\n",
       "      <td>10000.00000</td>\n",
       "      <td>1.581569e+07</td>\n",
       "      <td>850.000000</td>\n",
       "      <td>92.000000</td>\n",
       "      <td>10.000000</td>\n",
       "      <td>250898.090000</td>\n",
       "      <td>4.000000</td>\n",
       "      <td>1.00000</td>\n",
       "      <td>1.000000</td>\n",
       "      <td>199992.480000</td>\n",
       "      <td>1.000000</td>\n",
       "    </tr>\n",
       "  </tbody>\n",
       "</table>\n",
       "</div>"
      ],
      "text/plain": [
       "         RowNumber    CustomerId   CreditScore           Age       Tenure  \\\n",
       "count  10000.00000  1.000000e+04  10000.000000  10000.000000  9091.000000   \n",
       "mean    5000.50000  1.569094e+07    650.528800     38.921800     4.997690   \n",
       "std     2886.89568  7.193619e+04     96.653299     10.487806     2.894723   \n",
       "min        1.00000  1.556570e+07    350.000000     18.000000     0.000000   \n",
       "25%     2500.75000  1.562853e+07    584.000000     32.000000     2.000000   \n",
       "50%     5000.50000  1.569074e+07    652.000000     37.000000     5.000000   \n",
       "75%     7500.25000  1.575323e+07    718.000000     44.000000     7.000000   \n",
       "max    10000.00000  1.581569e+07    850.000000     92.000000    10.000000   \n",
       "\n",
       "             Balance  NumOfProducts    HasCrCard  IsActiveMember  \\\n",
       "count   10000.000000   10000.000000  10000.00000    10000.000000   \n",
       "mean    76485.889288       1.530200      0.70550        0.515100   \n",
       "std     62397.405202       0.581654      0.45584        0.499797   \n",
       "min         0.000000       1.000000      0.00000        0.000000   \n",
       "25%         0.000000       1.000000      0.00000        0.000000   \n",
       "50%     97198.540000       1.000000      1.00000        1.000000   \n",
       "75%    127644.240000       2.000000      1.00000        1.000000   \n",
       "max    250898.090000       4.000000      1.00000        1.000000   \n",
       "\n",
       "       EstimatedSalary        Exited  \n",
       "count     10000.000000  10000.000000  \n",
       "mean     100090.239881      0.203700  \n",
       "std       57510.492818      0.402769  \n",
       "min          11.580000      0.000000  \n",
       "25%       51002.110000      0.000000  \n",
       "50%      100193.915000      0.000000  \n",
       "75%      149388.247500      0.000000  \n",
       "max      199992.480000      1.000000  "
      ]
     },
     "metadata": {},
     "output_type": "display_data"
    }
   ],
   "source": [
    "# прочитаем и сохраним данные \n",
    "data = pd.read_csv('./datasets/Churn.csv')\n",
    "\n",
    "# выведем основную информацию о датафрейме\n",
    "print('\\n\\033[1mПервые строки датафрейма\\033[0m')\n",
    "display(data.head())\n",
    "print('\\n\\033[1mИнформация о датафрейме\\033[0m\\n')\n",
    "print(data.info())\n",
    "print(\"\\n\\033[1mОсновные описательные характеристика датафрейма\\033[0m\")\n",
    "display(data.describe())"
   ]
  },
  {
   "cell_type": "markdown",
   "metadata": {},
   "source": [
    "Проверим наличие явных и неявных дубликатов в датафрейме"
   ]
  },
  {
   "cell_type": "code",
   "execution_count": null,
   "metadata": {},
   "outputs": [],
   "source": [
    "print('\\033[1mКоличество явных дубликатов в датафрейме равно:\\033[0m', data.duplicated().sum(), end='\\n\\n')\n",
    "\n",
    "categorial_columns = ['CustomerId', 'Surname', 'Geography', 'Gender', 'NumOfProducts']\n",
    "\n",
    "for name in categorial_columns:\n",
    "    print(f'\\033[1mУникальные значения столбца {name}\\033[0m')\n",
    "    print(data[name].value_counts(), '\\n')"
   ]
  },
  {
   "cell_type": "markdown",
   "metadata": {},
   "source": [
    "Из основной информации о датафрейме можно увидеть следующее:\n",
    "- столбец RowNumber дублирует индексы таблицы;\n",
    "- столбец Tenure имеет пропущенные значения;\n",
    "- столбец EstimatedSalary имеет очень маленькое минимальное значение;\n",
    "- столбец с целевым признаком Exited имеет маленькое количество положительных ответов.\n",
    "- датафрейм не содержит дубликатов"
   ]
  },
  {
   "cell_type": "markdown",
   "metadata": {},
   "source": [
    "### Предобработка данных"
   ]
  },
  {
   "cell_type": "markdown",
   "metadata": {},
   "source": [
    "Так как столбец \"CustomerId\" и \"Surname\" содержат большое количество уникальных значения ID клиента и его фамилии, то эти данные не могут оказать влияния на целевой признак, исключим данные столбцы из датафрейма. \n",
    "Так же удалим из датафрейма дублирующий индексы столбец \"RowNumber\""
   ]
  },
  {
   "cell_type": "code",
   "execution_count": null,
   "metadata": {},
   "outputs": [],
   "source": [
    "data = data.drop(['RowNumber', 'Surname', 'CustomerId'], axis=1)"
   ]
  },
  {
   "cell_type": "markdown",
   "metadata": {},
   "source": [
    "Заполним пропущенные значения в столбце 'Tenure' случайными значениями из тех, которые уже имеются в нем."
   ]
  },
  {
   "cell_type": "code",
   "execution_count": null,
   "metadata": {},
   "outputs": [],
   "source": [
    "print('Количество пропущенных значений в столбцах датафрейма равно: \\n{}\\n'.format(data.isna().sum()))\n",
    "# зафиксируем значение псевдослучайности\n",
    "np.random.seed(14)\n",
    "\n",
    "# к интересующему столбцу применим функцию, заполняющую пропуски случайным значением из списка его исходных значений\n",
    "data['Tenure'] = data['Tenure'].apply(\n",
    "    lambda x: x if not np.isnan(x) else np.random.choice(\n",
    "        np.arange(max(data['Tenure'].unique() + 1))\n",
    "    )\n",
    ")\n",
    "print('Количество пропущенных значений в столбцах датафрейма после обработки равно: \\n{}'.format(data.isna().sum()))"
   ]
  },
  {
   "cell_type": "markdown",
   "metadata": {},
   "source": [
    "Для дальнейшего использования данных в обучении модели классификации преобразуем категориальные данные в числовые.\n",
    "\n",
    "- Преобразуем столбцы 'Geography' и 'Gender' с помощью прямого кодирования;\n",
    "- Преобразуем столбец 'NumOfProducts' с помощью прямого кодирования, так как он делит людей на 4 класса по количеству используемых продуктов."
   ]
  },
  {
   "cell_type": "code",
   "execution_count": null,
   "metadata": {},
   "outputs": [],
   "source": [
    "# для прямого колирования используем метод get_dummies \n",
    "data_conv = pd.get_dummies(data, columns=['Geography', 'Gender', 'NumOfProducts'])\n",
    "\n",
    "data_conv.head()"
   ]
  },
  {
   "cell_type": "markdown",
   "metadata": {},
   "source": [
    "Промасштабируем числовые данные датафрейма. \n",
    "\n",
    "Чтобы избежать потери качества модели, разделим датафрейм на тренировочный и тестовый. Для этого создадим специальную функцию. "
   ]
  },
  {
   "cell_type": "code",
   "execution_count": null,
   "metadata": {},
   "outputs": [],
   "source": [
    "def data_preparation(data, target_name, target_volume):\n",
    "    \n",
    "    features = data.drop(target_name, axis=1)\n",
    "    target = data[target_name]\n",
    "    \n",
    "    X_train, X_test, y_train, y_test = train_test_split(\n",
    "        features, target, test_size=target_volume, random_state=14)\n",
    "    return X_train, X_test, y_train, y_test"
   ]
  },
  {
   "cell_type": "markdown",
   "metadata": {},
   "source": [
    "Объявим тренировочные и тестовые данные, полученные на основе исходного датафрейма."
   ]
  },
  {
   "cell_type": "code",
   "execution_count": null,
   "metadata": {},
   "outputs": [],
   "source": [
    "X_train, X_test, y_train, y_test = data_preparation(data_conv, 'Exited', 0.25)"
   ]
  },
  {
   "cell_type": "markdown",
   "metadata": {},
   "source": [
    "Обучим масштабирующую функцию только на тренировочной выборке. Преобразуем все числовые в тренеровочнй и тестовой выборках значения."
   ]
  },
  {
   "cell_type": "code",
   "execution_count": null,
   "metadata": {},
   "outputs": [],
   "source": [
    "# для масштабирования воспользуемся функцией StandardScaler\n",
    "numeric = ['CreditScore', 'Age', 'Tenure', 'Balance', 'EstimatedSalary'] # список столбцов датафрейма с числовыми значениями\n",
    "\n",
    "scaler = StandardScaler()\n",
    "scaler.fit(X_train[numeric])\n",
    "X_train[numeric] = scaler.transform(X_train[numeric])\n",
    "X_test[numeric] = scaler.transform(X_test[numeric])"
   ]
  },
  {
   "cell_type": "markdown",
   "metadata": {},
   "source": [
    "### Вывод:"
   ]
  },
  {
   "cell_type": "markdown",
   "metadata": {},
   "source": [
    "В результате ознакомления и  предобработки данных сделано следующее:\n",
    "- рассмотрена информация о данных и их основные характеристики;\n",
    "- проведена проверка датафрейма на наличие явных и неявных дубликатов;\n",
    "- заполнены пропущенные значения;\n",
    "- исключены из рассмотрения столбцы с лишней информацией;\n",
    "- проведено декодирования категориальных данных в числовые;\n",
    "- промасштабированы числовые данные."
   ]
  },
  {
   "cell_type": "markdown",
   "metadata": {},
   "source": [
    "## Исследование задачи"
   ]
  },
  {
   "cell_type": "markdown",
   "metadata": {},
   "source": [
    "Из предварительного ознакомления с данными видно, что целевой признак имеет дисбаланс значений. Выведем значения имеющегося дисбаланса."
   ]
  },
  {
   "cell_type": "code",
   "execution_count": null,
   "metadata": {
    "scrolled": true
   },
   "outputs": [],
   "source": [
    "disbalance_values = data['Exited'].value_counts(normalize=True)\n",
    "disbalance_values"
   ]
  },
  {
   "cell_type": "markdown",
   "metadata": {},
   "source": [
    "Количество отрицательных значений почти в 4 раза больше, чем положительных.\n",
    "\n",
    "В качестве исследования обучим модель классификации на имеющихся данных с дисбалансом. Посчитаем метрику качества F1. Проверим две модели - RandomForest и LogisticRegressor. Определим модель с наилучшим результатом метрики F1."
   ]
  },
  {
   "cell_type": "markdown",
   "metadata": {},
   "source": [
    "Создадим функцию, которая выводит основные метрики классификации."
   ]
  },
  {
   "cell_type": "code",
   "execution_count": null,
   "metadata": {},
   "outputs": [],
   "source": [
    "def main_metrics(y_test, prediction, probabilities):\n",
    "       \n",
    "    F1 = f1_score(y_test, prediction)\n",
    "    roc_aug = roc_auc_score(y_test, probabilities)\n",
    "    accuracy = accuracy_score(y_test, prediction)\n",
    "    precision = precision_score(y_test, prediction)\n",
    "    recall = recall_score(y_test, prediction)\n",
    "    \n",
    "    return print(f\"\"\"Для данной модели основные метрики имеют следующие значения:\n",
    "Метрика F1 = {F1.round(3)}\n",
    "Метрика ROC_AUC = {roc_aug.round(3)}\n",
    "Метрика Accuracy = {accuracy.round(3)}\n",
    "Метрика Precision = {precision.round(3)}\n",
    "Метрика Recall = {recall.round(3)}\"\"\")"
   ]
  },
  {
   "cell_type": "markdown",
   "metadata": {},
   "source": [
    "Проверим модель \"Логистическая регрессия\" на данный с дисбалансным целевым признаком."
   ]
  },
  {
   "cell_type": "code",
   "execution_count": null,
   "metadata": {},
   "outputs": [],
   "source": [
    "model = LogisticRegression(random_state=13, solver='liblinear')\n",
    "model.fit(X_train, y_train)\n",
    "prediction_lr = model.predict(X_test)\n",
    "probabilities_lr = model.predict_proba(X_test)[:, 1]\n",
    "\n",
    "\n",
    "main_metrics(y_test, prediction_lr, probabilities_lr)"
   ]
  },
  {
   "cell_type": "markdown",
   "metadata": {},
   "source": [
    "Проверим модель \"Случайный лес\" на тех же данных."
   ]
  },
  {
   "cell_type": "code",
   "execution_count": null,
   "metadata": {},
   "outputs": [],
   "source": [
    "model = RandomForestClassifier(max_depth=20, n_estimators=100, random_state=13)\n",
    "\n",
    "model.fit(X_train, y_train)\n",
    "model.fit(X_train, y_train)\n",
    "prediction_rf = model.predict(X_test)\n",
    "probabilities_rf = model.predict_proba(X_test)[:, 1]\n",
    "\n",
    "main_metrics(y_test, prediction_rf, probabilities_rf)"
   ]
  },
  {
   "cell_type": "markdown",
   "metadata": {},
   "source": [
    "Вывод:\n",
    "\n",
    "В результате обучения моделей классификации на данных с дисбалансным целевым признаком обнаружено, что модель \"Случайный лес\" имеет значения основной метрики качества F1 = 0.563 выше, чем модель \"Логистическая регрессия\", F1 метрика которой равна 0.46."
   ]
  },
  {
   "cell_type": "markdown",
   "metadata": {},
   "source": [
    "## Борьба с дисбалансом"
   ]
  },
  {
   "cell_type": "markdown",
   "metadata": {},
   "source": [
    "Для улучшения качества модели классификации исключим дисбаланс целевого признака. Для этого сравним два следующих метода и выберем лучший: \n",
    "- Применим метод увелечения выборки Upsampling;\n",
    "- Зададим значениям признаков разный вес."
   ]
  },
  {
   "cell_type": "markdown",
   "metadata": {},
   "source": [
    "### Метод Upsampling"
   ]
  },
  {
   "cell_type": "markdown",
   "metadata": {},
   "source": [
    "Создадим функцию, которая увеличит количество положительных значений целевого признака."
   ]
  },
  {
   "cell_type": "code",
   "execution_count": null,
   "metadata": {},
   "outputs": [],
   "source": [
    "def upsampling(features, target, repeat):\n",
    "    #сортирует принимаемые датафреймы и сохраняет их в новые переменные\n",
    "    features_zero = features[target == 0]\n",
    "    features_one = features[target == 1]\n",
    "    target_zero = target[target == 0]\n",
    "    target_one = target[target == 1]\n",
    "    \n",
    "    # соединяет и размножает датафреймы с положительными значениями\n",
    "    features_upsampled = pd.concat([features_zero] + [features_one] * repeat)\n",
    "    target_upsampled = pd.concat([target_zero] + [target_one] * repeat)\n",
    "    \n",
    "    #перемешивает датафреймы\n",
    "    features_upsampled_shaffl = shuffle(features_upsampled, random_state=14)\n",
    "    target_upsampled_shaffl = shuffle(target_upsampled, random_state=14)\n",
    "    \n",
    "    return features_upsampled_shaffl, target_upsampled_shaffl"
   ]
  },
  {
   "cell_type": "markdown",
   "metadata": {},
   "source": [
    "Применим к тренеровочной и тестовой выборкам функцию upsampling."
   ]
  },
  {
   "cell_type": "code",
   "execution_count": null,
   "metadata": {},
   "outputs": [],
   "source": [
    "X_train_upsm, y_train_upsm = upsampling(X_train, y_train, 3)"
   ]
  },
  {
   "cell_type": "markdown",
   "metadata": {},
   "source": [
    "Обучим модель \"Логистическая регрессия\" на обработанных данных. Выведем метрики качества. "
   ]
  },
  {
   "cell_type": "code",
   "execution_count": null,
   "metadata": {},
   "outputs": [],
   "source": [
    "model = LogisticRegression(random_state=13, solver='liblinear')\n",
    "model.fit(X_train_upsm, y_train_upsm)\n",
    "prediction_lr_upsm = model.predict(X_test)\n",
    "probabilities_lr_upsm = model.predict_proba(X_test)[:, 1]\n",
    "\n",
    "main_metrics(y_test, prediction_lr_upsm, probabilities_lr_upsm)"
   ]
  },
  {
   "cell_type": "markdown",
   "metadata": {},
   "source": [
    "Обучим модель \"Случайный лес\" на обработанных данных. Выведем метрики качества."
   ]
  },
  {
   "cell_type": "code",
   "execution_count": null,
   "metadata": {},
   "outputs": [],
   "source": [
    "model = RandomForestClassifier(max_depth=20, n_estimators=100, random_state=13)\n",
    "\n",
    "model.fit(X_train_upsm, y_train_upsm)\n",
    "prediction_rf_upsm = model.predict(X_test)\n",
    "probabilities_rf_upsm = model.predict_proba(X_test)[:, 1]\n",
    "\n",
    "main_metrics(y_test, prediction_rf_upsm, probabilities_rf_upsm)"
   ]
  },
  {
   "cell_type": "markdown",
   "metadata": {},
   "source": [
    "***Вывод:***\n",
    "\n",
    "В результате можно сделать следующие выводы:\n",
    "- После увеличения количества положительных значений целевого признака метрика качества F1 обеих моделей увеличилась.\n",
    "- Метрика качества F1 случайного леса, обученного на обработанном датафрейме, равна 0.599 и выше, чем у логистической регрессии, F1 которой равна 0.575.\n"
   ]
  },
  {
   "cell_type": "markdown",
   "metadata": {},
   "source": [
    "### Метод Downsampling"
   ]
  },
  {
   "cell_type": "markdown",
   "metadata": {},
   "source": [
    "Создадим функцию, которая уменьшает количество отрицательных значений целевого признака."
   ]
  },
  {
   "cell_type": "code",
   "execution_count": null,
   "metadata": {},
   "outputs": [],
   "source": [
    "def downsampling(features, target, fraction):\n",
    "    #сортирует принимаемые датафреймы и сохраняет их в новые переменные\n",
    "    features_zero = features[target == 0]\n",
    "    features_one = features[target == 1]\n",
    "    target_zero = target[target == 0]\n",
    "    target_one = target[target == 1]\n",
    "    \n",
    "    # соединяет датафреймы с положительными значениями и уменьшенные датафреймы с отрицательными значениями\n",
    "    features_upsampled = pd.concat([features_zero.sample(frac=fraction, random_state=14), features_one])\n",
    "    target_upsampled = pd.concat([target_zero.sample(frac=fraction, random_state=14), target_one])\n",
    "    \n",
    "    #перемешивает датафреймы\n",
    "    features_upsampled_shaffl = shuffle(features_upsampled, random_state=14)\n",
    "    target_upsampled_shaffl = shuffle(target_upsampled, random_state=14)\n",
    "    \n",
    "    return features_upsampled_shaffl, target_upsampled_shaffl"
   ]
  },
  {
   "cell_type": "markdown",
   "metadata": {},
   "source": [
    "Применим к тренеровочной и тестовой выборкам функцию downsampling."
   ]
  },
  {
   "cell_type": "code",
   "execution_count": null,
   "metadata": {},
   "outputs": [],
   "source": [
    "fraction = y_train[y_train == 1].count() / y_train[y_train == 0].count() # отношение положительных значений целевого признака\n",
    "# к отрицательным\n",
    "\n",
    "X_train_dwsm, y_train_dwsm = downsampling(X_train, y_train, fraction)"
   ]
  },
  {
   "cell_type": "markdown",
   "metadata": {},
   "source": [
    "Обучим модель \"Логистическая регрессия\" на обработанных данных. Выведем метрики качества. "
   ]
  },
  {
   "cell_type": "code",
   "execution_count": null,
   "metadata": {},
   "outputs": [],
   "source": [
    "model = LogisticRegression(random_state=13, solver='liblinear')\n",
    "model.fit(X_train_dwsm, y_train_dwsm)\n",
    "prediction_lr_dwsm = model.predict(X_test)\n",
    "probabilities_lr_dwsm = model.predict_proba(X_test)[:, 1]\n",
    "\n",
    "main_metrics(y_test, prediction_lr_upsm, probabilities_lr_dwsm)"
   ]
  },
  {
   "cell_type": "markdown",
   "metadata": {},
   "source": [
    "Обучим модель \"Случайный лес\" на обработанных данных. Выведем метрики качества."
   ]
  },
  {
   "cell_type": "code",
   "execution_count": null,
   "metadata": {},
   "outputs": [],
   "source": [
    "model = RandomForestClassifier(max_depth=20, n_estimators=100, random_state=13)\n",
    "\n",
    "model.fit(X_train_dwsm, y_train_dwsm)\n",
    "prediction_rf_dwsm = model.predict(X_test)\n",
    "probabilities_rf_dwsm = model.predict_proba(X_test)[:, 1]\n",
    "\n",
    "main_metrics(y_test, prediction_rf_upsm, probabilities_rf_dwsm)"
   ]
  },
  {
   "cell_type": "markdown",
   "metadata": {},
   "source": [
    "### Использование моделей с взвешенными признаками"
   ]
  },
  {
   "cell_type": "markdown",
   "metadata": {},
   "source": [
    "Обучим модель \"Логистической регрессии\" так, что вес классов будет сбалансирован относительно их пропорции в датафрейме. "
   ]
  },
  {
   "cell_type": "code",
   "execution_count": null,
   "metadata": {},
   "outputs": [],
   "source": [
    "model = LogisticRegression(random_state=13, solver='liblinear', class_weight='balanced')\n",
    "model.fit(X_train, y_train)\n",
    "prediction_lr_blns = model.predict(X_test)\n",
    "probabilities_lr_blns = model.predict_proba(X_test)[:, 1]\n",
    "\n",
    "main_metrics(y_test, prediction_lr_blns, probabilities_lr_blns)"
   ]
  },
  {
   "cell_type": "markdown",
   "metadata": {},
   "source": [
    "Повторим тоже самое для модели \"Случайный лес\"."
   ]
  },
  {
   "cell_type": "code",
   "execution_count": null,
   "metadata": {
    "scrolled": true
   },
   "outputs": [],
   "source": [
    "model = RandomForestClassifier(max_depth=20, n_estimators=100, random_state=13, class_weight='balanced')\n",
    "\n",
    "model.fit(X_train, y_train)\n",
    "prediction_rf_blns = model.predict(X_test)\n",
    "probabilities_rf_blns = model.predict_proba(X_test)[:, 1]\n",
    "\n",
    "main_metrics(y_test, prediction_rf_blns, probabilities_rf_blns)"
   ]
  },
  {
   "cell_type": "markdown",
   "metadata": {},
   "source": [
    "***Вывод:***\n",
    "\n",
    "В результате исследования значения метрик моделей, обученных на данных, обработанных с помощью метода Downsample, немного выше, чем у других моделей.\n",
    "\n",
    "Исходя из результатов работы моделей, обученных на данных с дисбалансом и без него, видно, что в данной задаче классификации модель \"Случайный лес\" показывает более лучшие результаты, чем модель \"Логистическая регрессия\". Следовательно, в дальнейшем целесообразно использовать модель классификации \"Случайный лес\"."
   ]
  },
  {
   "cell_type": "markdown",
   "metadata": {},
   "source": [
    "### Настройка модели \"Случайный лес\""
   ]
  },
  {
   "cell_type": "markdown",
   "metadata": {},
   "source": [
    "Для улучшения показателей модели подберем основные гиперпараметры с помощью кросс-валидации. "
   ]
  },
  {
   "cell_type": "markdown",
   "metadata": {},
   "source": [
    "***Нахождение наилучшего значения гиперпараметра max_depth***"
   ]
  },
  {
   "cell_type": "code",
   "execution_count": null,
   "metadata": {},
   "outputs": [],
   "source": [
    "#зададим диапазон значений интересуемого параметра\n",
    "x = np.arange(4, 30, 2) \n",
    "y = []\n",
    "\n",
    "#с помощью кросс-валидации получим значения метрики f1 с разными значениями параметра\n",
    "for depth in x:\n",
    "    check_model = RandomForestClassifier(\n",
    "        max_depth=depth,\n",
    "        n_estimators=20,\n",
    "        random_state=13,\n",
    "        n_jobs=-1\n",
    "    )\n",
    "    f1_valid = cross_val_score(check_model, X_train_dwsm, y_train_dwsm, cv=10, n_jobs=-1, scoring='f1')\n",
    "    y.append(np.mean(f1_valid))\n",
    "\n",
    "#построим график на основе которого выберем наилучшее значение   \n",
    "plt.figure(figsize=(10,5))\n",
    "plt.grid(True)\n",
    "\n",
    "plt.plot(x, y)\n",
    "\n",
    "plt.xlabel('Depth')\n",
    "plt.ylabel('F1-score')\n",
    "plt.title('Addiction of F1-score from the depth of random forest model')\n",
    "plt.show()"
   ]
  },
  {
   "cell_type": "markdown",
   "metadata": {},
   "source": [
    "Из графика видно, что наилучший результат метрики F1-score получается при значении параметра max_depth = 8."
   ]
  },
  {
   "cell_type": "markdown",
   "metadata": {},
   "source": [
    "***Нахождение наилучшего значения гиперпараметра max_features***"
   ]
  },
  {
   "cell_type": "code",
   "execution_count": null,
   "metadata": {},
   "outputs": [],
   "source": [
    "#зададим диапазон значений интересуемого параметра\n",
    "x = np.arange(2, 17, 2) \n",
    "y = []\n",
    "\n",
    "#с помощью кросс-валидации получим значения метрики f1 с разными значениями параметра\n",
    "for features in x:\n",
    "    check_model = RandomForestClassifier(\n",
    "        max_depth=8, \n",
    "        max_features=features, \n",
    "        n_estimators=20, \n",
    "        random_state=13, \n",
    "        n_jobs=-1\n",
    "    )\n",
    "    f1_valid = cross_val_score(check_model, X_train_dwsm, y_train_dwsm, cv=10, n_jobs=-1, scoring='f1')\n",
    "    y.append(np.mean(f1_valid))\n",
    "\n",
    "#построим график на основе которого выберем наилучшее значение   \n",
    "plt.figure(figsize=(10,5))\n",
    "plt.grid(True)\n",
    "\n",
    "plt.plot(x, y)\n",
    "\n",
    "plt.xlabel('Max features')\n",
    "plt.ylabel('F1-score')\n",
    "plt.title('Addiction of F1-score from the max features of random forest model')\n",
    "plt.show()"
   ]
  },
  {
   "cell_type": "markdown",
   "metadata": {},
   "source": [
    "Из графика видно, что наилучший результат метрики F1-score получается при значении параметра max_features = 16."
   ]
  },
  {
   "cell_type": "markdown",
   "metadata": {},
   "source": [
    "***Нахождение наилучшего значения гиперпараметра min_samples_leaf***"
   ]
  },
  {
   "cell_type": "code",
   "execution_count": null,
   "metadata": {},
   "outputs": [],
   "source": [
    "#зададим диапазон значений интересуемого параметра\n",
    "x = [1, 2, 3, 5, 10, 15, 20]\n",
    "y = []\n",
    "\n",
    "#с помощью кросс-валидации получим значения метрики f1 с разными значениями параметра\n",
    "for leaf in x:\n",
    "    check_model = RandomForestClassifier(\n",
    "        max_depth=8, \n",
    "        max_features=16,\n",
    "        min_samples_leaf=leaf,\n",
    "        n_estimators=20, \n",
    "        random_state=13, \n",
    "        n_jobs=-1\n",
    "    )\n",
    "    f1_valid = cross_val_score(check_model, X_train_dwsm, y_train_dwsm, cv=10, n_jobs=-1, scoring='f1')\n",
    "    y.append(np.mean(f1_valid))\n",
    "\n",
    "#построим график на основе которого выберем наилучшее значение   \n",
    "plt.figure(figsize=(10,5))\n",
    "plt.grid(True)\n",
    "\n",
    "plt.plot(x, y)\n",
    "\n",
    "plt.xlabel('Min amount of samples in leaf')\n",
    "plt.ylabel('F1-score')\n",
    "plt.title('Addiction of F1-score from the min amount of samples in leaf of random forest model')\n",
    "plt.show()"
   ]
  },
  {
   "cell_type": "markdown",
   "metadata": {},
   "source": [
    "Из графика видно, что наилучший результат метрики F1-score получается при значении параметра min_samples_leaf = 3."
   ]
  },
  {
   "cell_type": "markdown",
   "metadata": {},
   "source": [
    "***Нахождение наилучшего значения гиперпараметра n_estimators***"
   ]
  },
  {
   "cell_type": "code",
   "execution_count": null,
   "metadata": {},
   "outputs": [],
   "source": [
    "#зададим диапазон значений интересуемого параметра\n",
    "x = np.arange(20, 200, 20)\n",
    "y = []\n",
    "\n",
    "#с помощью кросс-валидации получим значения метрики f1 с разными значениями параметра\n",
    "for est_s in x:\n",
    "    check_model = RandomForestClassifier(\n",
    "        max_depth=8, \n",
    "        max_features=16,\n",
    "        min_samples_leaf=3,\n",
    "        n_estimators=est_s,\n",
    "        random_state=13, \n",
    "        n_jobs=-1\n",
    "    )\n",
    "    f1_valid = cross_val_score(check_model, X_train_dwsm, y_train_dwsm, cv=10, n_jobs=-1, scoring='f1')\n",
    "    y.append(np.mean(f1_valid))\n",
    "\n",
    "#построим график на основе которого выберем наилучшее значение   \n",
    "plt.figure(figsize=(10,5))\n",
    "plt.grid(True)\n",
    "\n",
    "plt.plot(x, y)\n",
    "\n",
    "plt.xlabel('Number of estimators')\n",
    "plt.ylabel('F1-score')\n",
    "plt.title('Addiction of F1-score from the number of estimators of random forest model')\n",
    "plt.show()"
   ]
  },
  {
   "cell_type": "markdown",
   "metadata": {},
   "source": [
    "Из графика видно, что наилучший результат метрики F1-score получается при значении параметра n_estimators = 20. Для исключения переобучения возьмем значение n_estimators = 160."
   ]
  },
  {
   "cell_type": "markdown",
   "metadata": {},
   "source": [
    "### Вывод:\n",
    "\n",
    "В результате борьбы с дисбалансом данных получено, что наибольшее значение метрики F1-score показывает модель \"Случайный лес\", обученная на upsample данных. С помощью кросс-валидации на основе метрики F1-score подобраны основные гиперпараметры модели классификации.\n",
    "Полученные гиперпараметры \"Случайного леса\": \n",
    "\n",
    "- max_depth=8, \n",
    "- max_features=16,\n",
    "- min_samples_leaf=3,\n",
    "- n_estimators=160."
   ]
  },
  {
   "cell_type": "markdown",
   "metadata": {},
   "source": [
    "## Тестирование модели"
   ]
  },
  {
   "cell_type": "markdown",
   "metadata": {},
   "source": [
    "Обучим итоговую модели и проверим ее на тестовой выборке. Посчитаем основные метрики качества и построим графика ROC-кривой."
   ]
  },
  {
   "cell_type": "code",
   "execution_count": null,
   "metadata": {},
   "outputs": [],
   "source": [
    "end_model = RandomForestClassifier(\n",
    "    max_depth=8, \n",
    "    max_features=16,\n",
    "    min_samples_leaf=3,\n",
    "    n_estimators=160,\n",
    "    random_state=13, \n",
    "    n_jobs=-1\n",
    "    )\n",
    "\n",
    "end_model.fit(X_train_dwsm, y_train_dwsm)\n",
    "prediction_end = end_model.predict(X_test)\n",
    "probabilities_end = end_model.predict_proba(X_test)[:, 1]\n",
    "\n",
    "main_metrics(y_test, prediction_end, probabilities_end)\n",
    "\n",
    "fpr, tpr, thresholds = roc_curve(y_test, probabilities_end)\n",
    "\n",
    "print()\n",
    "plt.figure(figsize=(10,5))\n",
    "plt.grid(True)\n",
    "plt.plot(fpr, tpr)\n",
    "plt.plot([0,1], [0,1], linestyle='dashed')\n",
    "plt.xlabel('False  possitive rate')\n",
    "plt.ylabel('True positive rate')\n",
    "plt.title('ROC-curve chart')\n",
    "plt.show()"
   ]
  },
  {
   "cell_type": "markdown",
   "metadata": {},
   "source": [
    "Получим значение важности признаков, выведем их на экран и построим график."
   ]
  },
  {
   "cell_type": "code",
   "execution_count": null,
   "metadata": {},
   "outputs": [],
   "source": [
    "feature_importances_df = pd.DataFrame([X_train.columns, end_model.feature_importances_])\n",
    "\n",
    "print('\\n\\033[1mТаблица важности признаков:\\n\\033[0m')\n",
    "display(pd.Series(end_model.feature_importances_, index=X_train.columns))\n",
    "                                       \n",
    "fetures_name = feature_importances_df.loc[0]\n",
    "fetures_importances_value = feature_importances_df.loc[1]\n",
    "\n",
    "print('\\n\\033[1mГрафик важности признаков:\\n\\033[0m')\n",
    "\n",
    "fig, ax = plt.subplots(figsize=(15,7))\n",
    "plt.grid(True)\n",
    "# Creating a simple bar chart\n",
    "plt.bar(fetures_name, fetures_importances_value)\n",
    "\n",
    "plt.title(\"The value of importance for model features\")\n",
    "plt.xlabel('Names of features', fontsize=15)\n",
    "plt.xticks(rotation=70)\n",
    "plt.ylabel('Importance values', fontsize=15)\n",
    "plt.show()"
   ]
  },
  {
   "cell_type": "markdown",
   "metadata": {},
   "source": [
    "**Вывод:**\n",
    "\n",
    "Метрика качества итоговой модели F1-score ровна 0.606, что удовлетворяет требованиям поставленной в исследовании задаче."
   ]
  },
  {
   "cell_type": "markdown",
   "metadata": {},
   "source": [
    "## Вывод:"
   ]
  },
  {
   "cell_type": "markdown",
   "metadata": {},
   "source": [
    "В процессе построения модели классификации, которая должна спрогнозировать, уйдёт клиент из банка в ближайшее время или нет, проделана следующая работа:\n",
    "\n",
    "1) Для дальнейшего использования в обучении модели проведена предобработка полученных данных о поведении клиентов и расторжении договоров с банком;\n",
    "\n",
    "2) Исследован дисбаланс целевого признака в датафрейме. Проведено тестовое обучение моделей на данных с дисбплансом;\n",
    "\n",
    "3) Применены насколько способов борьбы с дисбалансом целевого признака, в результате чего выбран метод upsampling;\n",
    "\n",
    "4) Для улучшения качества модели подобранные основные гиперпараметры модели классификации;\n",
    "\n",
    "5) Проведено окончательное обучения и тестирования модели на тестовой выборке. Построен график ROC-кривой, получены значения важности признаков и построен график. Результат работы итоговой модели удовлетворяет требования поставленной задачи."
   ]
  }
 ],
 "metadata": {
  "ExecuteTimeLog": [
   {
    "duration": 129,
    "start_time": "2022-02-01T17:45:51.508Z"
   },
   {
    "duration": 1074,
    "start_time": "2022-02-01T17:46:22.342Z"
   },
   {
    "duration": 95,
    "start_time": "2022-02-01T17:47:01.581Z"
   },
   {
    "duration": 72,
    "start_time": "2022-02-01T17:47:58.543Z"
   },
   {
    "duration": 52,
    "start_time": "2022-02-01T17:48:42.261Z"
   },
   {
    "duration": 40,
    "start_time": "2022-02-01T17:49:05.424Z"
   },
   {
    "duration": 18,
    "start_time": "2022-02-01T17:49:51.100Z"
   },
   {
    "duration": 12,
    "start_time": "2022-02-01T17:49:55.597Z"
   },
   {
    "duration": 6,
    "start_time": "2022-02-01T17:50:59.053Z"
   },
   {
    "duration": 13,
    "start_time": "2022-02-01T17:51:00.794Z"
   },
   {
    "duration": 462,
    "start_time": "2022-02-01T17:51:10.664Z"
   },
   {
    "duration": 283,
    "start_time": "2022-02-01T17:51:19.312Z"
   },
   {
    "duration": 41,
    "start_time": "2022-02-01T17:51:23.201Z"
   },
   {
    "duration": 5,
    "start_time": "2022-02-01T17:51:25.557Z"
   },
   {
    "duration": 10,
    "start_time": "2022-02-01T17:51:36.099Z"
   },
   {
    "duration": 14,
    "start_time": "2022-02-01T17:51:47.611Z"
   },
   {
    "duration": 54,
    "start_time": "2022-02-01T17:56:24.674Z"
   },
   {
    "duration": 85,
    "start_time": "2022-02-01T17:57:48.447Z"
   },
   {
    "duration": 82,
    "start_time": "2022-02-01T17:58:05.029Z"
   },
   {
    "duration": 103,
    "start_time": "2022-02-01T17:59:23.720Z"
   },
   {
    "duration": 82,
    "start_time": "2022-02-01T18:02:09.171Z"
   },
   {
    "duration": 82,
    "start_time": "2022-02-01T18:02:13.124Z"
   },
   {
    "duration": 88,
    "start_time": "2022-02-01T18:02:25.937Z"
   },
   {
    "duration": 111,
    "start_time": "2022-02-01T18:02:33.396Z"
   },
   {
    "duration": 111,
    "start_time": "2022-02-01T18:02:35.954Z"
   },
   {
    "duration": 113,
    "start_time": "2022-02-01T18:02:42.442Z"
   },
   {
    "duration": 84,
    "start_time": "2022-02-01T18:02:47.881Z"
   },
   {
    "duration": 94,
    "start_time": "2022-02-01T18:03:01.703Z"
   },
   {
    "duration": 109,
    "start_time": "2022-02-01T18:03:31.734Z"
   },
   {
    "duration": 108,
    "start_time": "2022-02-01T18:03:42.915Z"
   },
   {
    "duration": 101,
    "start_time": "2022-02-01T18:03:50.367Z"
   },
   {
    "duration": 82,
    "start_time": "2022-02-01T18:04:04.788Z"
   },
   {
    "duration": 113,
    "start_time": "2022-02-01T18:04:13.265Z"
   },
   {
    "duration": 81,
    "start_time": "2022-02-01T18:04:46.722Z"
   },
   {
    "duration": 81,
    "start_time": "2022-02-01T18:04:49.796Z"
   },
   {
    "duration": 99,
    "start_time": "2022-02-01T18:04:54.974Z"
   },
   {
    "duration": 90,
    "start_time": "2022-02-01T18:05:08.069Z"
   },
   {
    "duration": 92,
    "start_time": "2022-02-01T18:05:13.150Z"
   },
   {
    "duration": 84,
    "start_time": "2022-02-01T18:05:17.310Z"
   },
   {
    "duration": 9,
    "start_time": "2022-02-01T18:05:22.491Z"
   },
   {
    "duration": 94,
    "start_time": "2022-02-01T18:05:47.518Z"
   },
   {
    "duration": 285,
    "start_time": "2022-02-01T18:06:03.238Z"
   },
   {
    "duration": 83,
    "start_time": "2022-02-01T18:06:13.557Z"
   },
   {
    "duration": 79,
    "start_time": "2022-02-01T18:06:33.523Z"
   },
   {
    "duration": 3,
    "start_time": "2022-02-01T18:06:39.905Z"
   },
   {
    "duration": 109,
    "start_time": "2022-02-01T18:06:40.395Z"
   },
   {
    "duration": 112,
    "start_time": "2022-02-01T18:06:47.832Z"
   },
   {
    "duration": 107,
    "start_time": "2022-02-01T18:07:07.535Z"
   },
   {
    "duration": 84,
    "start_time": "2022-02-01T18:07:20.499Z"
   },
   {
    "duration": 113,
    "start_time": "2022-02-01T18:07:33.847Z"
   },
   {
    "duration": 83,
    "start_time": "2022-02-01T18:07:48.072Z"
   },
   {
    "duration": 252,
    "start_time": "2022-02-01T18:16:35.966Z"
   },
   {
    "duration": 245,
    "start_time": "2022-02-01T18:16:48.570Z"
   },
   {
    "duration": 31,
    "start_time": "2022-02-01T18:17:33.106Z"
   },
   {
    "duration": 23,
    "start_time": "2022-02-01T18:17:59.655Z"
   },
   {
    "duration": 133,
    "start_time": "2022-02-01T18:18:06.842Z"
   },
   {
    "duration": 2,
    "start_time": "2022-02-01T18:18:08.726Z"
   },
   {
    "duration": 30,
    "start_time": "2022-02-01T18:18:09.211Z"
   },
   {
    "duration": 22,
    "start_time": "2022-02-01T18:18:32.078Z"
   },
   {
    "duration": 6,
    "start_time": "2022-02-01T18:19:21.121Z"
   },
   {
    "duration": 255,
    "start_time": "2022-02-01T18:19:27.092Z"
   },
   {
    "duration": 87,
    "start_time": "2022-02-01T18:19:31.243Z"
   },
   {
    "duration": 24,
    "start_time": "2022-02-01T18:19:38.783Z"
   },
   {
    "duration": 22,
    "start_time": "2022-02-01T18:20:01.074Z"
   },
   {
    "duration": 46,
    "start_time": "2022-02-01T18:20:20.165Z"
   },
   {
    "duration": 31,
    "start_time": "2022-02-01T18:20:27.111Z"
   },
   {
    "duration": 46,
    "start_time": "2022-02-01T18:20:36.173Z"
   },
   {
    "duration": 22,
    "start_time": "2022-02-01T18:20:40.550Z"
   },
   {
    "duration": 7,
    "start_time": "2022-02-01T18:21:10.744Z"
   },
   {
    "duration": 5,
    "start_time": "2022-02-01T18:21:18.211Z"
   },
   {
    "duration": 9,
    "start_time": "2022-02-01T18:21:35.978Z"
   },
   {
    "duration": 5,
    "start_time": "2022-02-01T18:22:15.650Z"
   },
   {
    "duration": 8,
    "start_time": "2022-02-01T18:22:41.089Z"
   },
   {
    "duration": 6,
    "start_time": "2022-02-01T18:23:24.121Z"
   },
   {
    "duration": 10,
    "start_time": "2022-02-01T18:23:48.212Z"
   },
   {
    "duration": 5,
    "start_time": "2022-02-01T18:25:04.867Z"
   },
   {
    "duration": 5,
    "start_time": "2022-02-01T18:25:11.766Z"
   },
   {
    "duration": 6,
    "start_time": "2022-02-01T18:25:19.880Z"
   },
   {
    "duration": 13,
    "start_time": "2022-02-01T18:25:56.482Z"
   },
   {
    "duration": 11,
    "start_time": "2022-02-01T18:26:04.893Z"
   },
   {
    "duration": 254,
    "start_time": "2022-02-01T18:29:00.409Z"
   },
   {
    "duration": 279,
    "start_time": "2022-02-01T18:29:05.842Z"
   },
   {
    "duration": 263,
    "start_time": "2022-02-01T18:29:11.630Z"
   },
   {
    "duration": 264,
    "start_time": "2022-02-01T18:29:25.859Z"
   },
   {
    "duration": 9,
    "start_time": "2022-02-01T18:29:30.862Z"
   },
   {
    "duration": 1594,
    "start_time": "2022-02-02T17:11:30.370Z"
   },
   {
    "duration": 134,
    "start_time": "2022-02-02T17:11:31.967Z"
   },
   {
    "duration": 50,
    "start_time": "2022-02-02T17:11:36.376Z"
   },
   {
    "duration": 12,
    "start_time": "2022-02-02T17:11:39.728Z"
   },
   {
    "duration": 8,
    "start_time": "2022-02-02T17:11:42.313Z"
   },
   {
    "duration": 17,
    "start_time": "2022-02-02T17:11:44.955Z"
   },
   {
    "duration": 25,
    "start_time": "2022-02-02T17:11:46.337Z"
   },
   {
    "duration": 3,
    "start_time": "2022-02-02T17:33:00.281Z"
   },
   {
    "duration": 456,
    "start_time": "2022-02-02T17:36:52.878Z"
   },
   {
    "duration": 295,
    "start_time": "2022-02-02T17:37:03.874Z"
   },
   {
    "duration": 17,
    "start_time": "2022-02-02T17:37:16.536Z"
   },
   {
    "duration": 20,
    "start_time": "2022-02-02T17:37:33.055Z"
   },
   {
    "duration": 19,
    "start_time": "2022-02-02T17:38:18.203Z"
   },
   {
    "duration": 95,
    "start_time": "2022-02-02T17:38:43.797Z"
   },
   {
    "duration": 96,
    "start_time": "2022-02-02T17:38:50.602Z"
   },
   {
    "duration": 19,
    "start_time": "2022-02-02T17:39:00.272Z"
   },
   {
    "duration": 27,
    "start_time": "2022-02-02T17:41:43.370Z"
   },
   {
    "duration": 29,
    "start_time": "2022-02-02T17:41:54.555Z"
   },
   {
    "duration": 40,
    "start_time": "2022-02-02T17:42:08.775Z"
   },
   {
    "duration": 41,
    "start_time": "2022-02-02T17:42:36.511Z"
   },
   {
    "duration": 29,
    "start_time": "2022-02-02T17:42:44.834Z"
   },
   {
    "duration": 28,
    "start_time": "2022-02-02T17:42:47.031Z"
   },
   {
    "duration": 329,
    "start_time": "2022-02-02T17:44:26.561Z"
   },
   {
    "duration": 957,
    "start_time": "2022-02-02T17:44:36.951Z"
   },
   {
    "duration": 350,
    "start_time": "2022-02-02T17:45:37.665Z"
   },
   {
    "duration": 5501,
    "start_time": "2022-02-02T17:47:31.699Z"
   },
   {
    "duration": 205,
    "start_time": "2022-02-02T17:47:37.204Z"
   },
   {
    "duration": 18,
    "start_time": "2022-02-02T17:47:38.329Z"
   },
   {
    "duration": 30,
    "start_time": "2022-02-02T17:47:38.505Z"
   },
   {
    "duration": 5867,
    "start_time": "2022-02-02T17:48:10.904Z"
   },
   {
    "duration": 128,
    "start_time": "2022-02-02T17:48:16.774Z"
   },
   {
    "duration": 41,
    "start_time": "2022-02-02T17:48:20.166Z"
   },
   {
    "duration": 1483,
    "start_time": "2022-02-02T17:49:17.594Z"
   },
   {
    "duration": 155,
    "start_time": "2022-02-02T17:49:19.081Z"
   },
   {
    "duration": 29,
    "start_time": "2022-02-02T17:49:19.250Z"
   },
   {
    "duration": 1466,
    "start_time": "2022-02-02T17:50:16.968Z"
   },
   {
    "duration": 126,
    "start_time": "2022-02-02T17:50:18.437Z"
   },
   {
    "duration": 29,
    "start_time": "2022-02-02T17:50:18.566Z"
   },
   {
    "duration": 66,
    "start_time": "2022-02-02T17:50:18.597Z"
   },
   {
    "duration": 16,
    "start_time": "2022-02-02T17:50:18.666Z"
   },
   {
    "duration": 12,
    "start_time": "2022-02-02T17:50:18.685Z"
   },
   {
    "duration": 22,
    "start_time": "2022-02-02T17:50:18.700Z"
   },
   {
    "duration": 36,
    "start_time": "2022-02-02T17:50:18.725Z"
   },
   {
    "duration": 428,
    "start_time": "2022-02-02T17:50:25.177Z"
   },
   {
    "duration": 118,
    "start_time": "2022-02-02T17:50:33.267Z"
   },
   {
    "duration": 29,
    "start_time": "2022-02-02T17:50:33.579Z"
   },
   {
    "duration": 6,
    "start_time": "2022-02-02T17:50:34.796Z"
   },
   {
    "duration": 14,
    "start_time": "2022-02-02T17:52:38.485Z"
   },
   {
    "duration": 12,
    "start_time": "2022-02-02T17:52:59.604Z"
   },
   {
    "duration": 13,
    "start_time": "2022-02-02T17:53:12.739Z"
   },
   {
    "duration": 14,
    "start_time": "2022-02-02T17:59:21.720Z"
   },
   {
    "duration": 99,
    "start_time": "2022-02-02T18:01:28.904Z"
   },
   {
    "duration": 4,
    "start_time": "2022-02-02T18:06:21.305Z"
   },
   {
    "duration": 298,
    "start_time": "2022-02-02T18:07:36.803Z"
   },
   {
    "duration": 43,
    "start_time": "2022-02-02T18:08:49.901Z"
   },
   {
    "duration": 6,
    "start_time": "2022-02-02T18:08:54.218Z"
   },
   {
    "duration": 6,
    "start_time": "2022-02-02T18:09:02.017Z"
   },
   {
    "duration": 23,
    "start_time": "2022-02-02T18:10:52.159Z"
   },
   {
    "duration": 33,
    "start_time": "2022-02-02T18:11:00.505Z"
   },
   {
    "duration": 14,
    "start_time": "2022-02-02T18:11:34.282Z"
   },
   {
    "duration": 49,
    "start_time": "2022-02-02T18:11:35.837Z"
   },
   {
    "duration": 42,
    "start_time": "2022-02-02T18:14:44.688Z"
   },
   {
    "duration": 6,
    "start_time": "2022-02-02T18:14:44.810Z"
   },
   {
    "duration": 5,
    "start_time": "2022-02-02T18:15:15.789Z"
   },
   {
    "duration": 6,
    "start_time": "2022-02-02T18:15:19.304Z"
   },
   {
    "duration": 9,
    "start_time": "2022-02-02T18:15:43.073Z"
   },
   {
    "duration": 4,
    "start_time": "2022-02-02T18:15:52.390Z"
   },
   {
    "duration": 10,
    "start_time": "2022-02-02T18:15:54.835Z"
   },
   {
    "duration": 9,
    "start_time": "2022-02-02T18:16:02.295Z"
   },
   {
    "duration": 3,
    "start_time": "2022-02-02T18:19:34.389Z"
   },
   {
    "duration": 297,
    "start_time": "2022-02-02T18:20:15.604Z"
   },
   {
    "duration": 305,
    "start_time": "2022-02-02T18:20:43.901Z"
   },
   {
    "duration": 404,
    "start_time": "2022-02-02T18:20:52.670Z"
   },
   {
    "duration": 280,
    "start_time": "2022-02-02T18:22:56.220Z"
   },
   {
    "duration": 285,
    "start_time": "2022-02-02T18:23:01.601Z"
   },
   {
    "duration": 396,
    "start_time": "2022-02-02T18:23:07.094Z"
   },
   {
    "duration": 19,
    "start_time": "2022-02-02T18:23:13.566Z"
   },
   {
    "duration": 6,
    "start_time": "2022-02-02T18:23:23.451Z"
   },
   {
    "duration": 30,
    "start_time": "2022-02-02T18:23:27.072Z"
   },
   {
    "duration": 3,
    "start_time": "2022-02-02T18:23:34.020Z"
   },
   {
    "duration": 8308,
    "start_time": "2022-02-02T18:23:54.016Z"
   },
   {
    "duration": 9,
    "start_time": "2022-02-02T18:25:40.796Z"
   },
   {
    "duration": 9,
    "start_time": "2022-02-02T18:25:51.108Z"
   },
   {
    "duration": 7,
    "start_time": "2022-02-02T18:25:56.842Z"
   },
   {
    "duration": 11,
    "start_time": "2022-02-02T18:26:48.912Z"
   },
   {
    "duration": 5,
    "start_time": "2022-02-02T18:26:52.666Z"
   },
   {
    "duration": 281,
    "start_time": "2022-02-02T18:26:56.064Z"
   },
   {
    "duration": 30,
    "start_time": "2022-02-02T18:27:03.367Z"
   },
   {
    "duration": 22,
    "start_time": "2022-02-02T18:28:00.181Z"
   },
   {
    "duration": 8,
    "start_time": "2022-02-02T18:28:02.526Z"
   },
   {
    "duration": 4,
    "start_time": "2022-02-02T18:28:19.239Z"
   },
   {
    "duration": 24,
    "start_time": "2022-02-02T18:28:27.716Z"
   },
   {
    "duration": 53,
    "start_time": "2022-02-02T18:28:29.110Z"
   },
   {
    "duration": 16,
    "start_time": "2022-02-02T18:31:14.775Z"
   },
   {
    "duration": 47,
    "start_time": "2022-02-02T18:31:15.404Z"
   },
   {
    "duration": 24,
    "start_time": "2022-02-02T18:31:44.190Z"
   },
   {
    "duration": 47,
    "start_time": "2022-02-02T18:34:12.681Z"
   },
   {
    "duration": 266,
    "start_time": "2022-02-02T18:35:45.567Z"
   },
   {
    "duration": 4,
    "start_time": "2022-02-02T18:35:50.781Z"
   },
   {
    "duration": 6,
    "start_time": "2022-02-02T18:35:55.817Z"
   },
   {
    "duration": 6,
    "start_time": "2022-02-02T18:45:45.376Z"
   },
   {
    "duration": 634,
    "start_time": "2022-02-02T18:50:13.722Z"
   },
   {
    "duration": 4,
    "start_time": "2022-02-02T18:51:30.127Z"
   },
   {
    "duration": 315,
    "start_time": "2022-02-02T18:52:49.963Z"
   },
   {
    "duration": 7,
    "start_time": "2022-02-02T18:54:25.930Z"
   },
   {
    "duration": 36,
    "start_time": "2022-02-02T18:54:36.508Z"
   },
   {
    "duration": 6,
    "start_time": "2022-02-02T18:55:09.232Z"
   },
   {
    "duration": 6,
    "start_time": "2022-02-02T18:55:12.848Z"
   },
   {
    "duration": 56,
    "start_time": "2022-02-02T18:57:17.117Z"
   },
   {
    "duration": 39,
    "start_time": "2022-02-02T18:57:25.333Z"
   },
   {
    "duration": 33,
    "start_time": "2022-02-02T18:58:15.126Z"
   },
   {
    "duration": 37,
    "start_time": "2022-02-02T19:00:59.229Z"
   },
   {
    "duration": 3,
    "start_time": "2022-02-02T19:02:02.184Z"
   },
   {
    "duration": 350,
    "start_time": "2022-02-02T19:05:53.333Z"
   },
   {
    "duration": 16,
    "start_time": "2022-02-02T19:06:22.639Z"
   },
   {
    "duration": 10,
    "start_time": "2022-02-02T19:07:22.912Z"
   },
   {
    "duration": 380,
    "start_time": "2022-02-03T16:55:30.275Z"
   },
   {
    "duration": 1492,
    "start_time": "2022-02-03T16:55:34.295Z"
   },
   {
    "duration": 126,
    "start_time": "2022-02-03T16:55:35.790Z"
   },
   {
    "duration": 34,
    "start_time": "2022-02-03T16:55:37.170Z"
   },
   {
    "duration": 7,
    "start_time": "2022-02-03T17:04:29.923Z"
   },
   {
    "duration": 13,
    "start_time": "2022-02-03T17:04:33.804Z"
   },
   {
    "duration": 28,
    "start_time": "2022-02-03T17:04:51.844Z"
   },
   {
    "duration": 32,
    "start_time": "2022-02-03T17:05:17.121Z"
   },
   {
    "duration": 6449,
    "start_time": "2022-02-03T17:06:29.346Z"
   },
   {
    "duration": 4,
    "start_time": "2022-02-03T17:06:51.243Z"
   },
   {
    "duration": 125,
    "start_time": "2022-02-03T17:06:51.250Z"
   },
   {
    "duration": 32,
    "start_time": "2022-02-03T17:06:51.378Z"
   },
   {
    "duration": 5,
    "start_time": "2022-02-03T17:06:51.413Z"
   },
   {
    "duration": 14,
    "start_time": "2022-02-03T17:06:51.420Z"
   },
   {
    "duration": 28,
    "start_time": "2022-02-03T17:06:51.469Z"
   },
   {
    "duration": 33,
    "start_time": "2022-02-03T17:06:51.499Z"
   },
   {
    "duration": 36,
    "start_time": "2022-02-03T17:06:51.535Z"
   },
   {
    "duration": 9,
    "start_time": "2022-02-03T17:07:27.074Z"
   },
   {
    "duration": 29,
    "start_time": "2022-02-03T17:07:53.237Z"
   },
   {
    "duration": 5,
    "start_time": "2022-02-03T17:09:58.349Z"
   },
   {
    "duration": 119,
    "start_time": "2022-02-03T17:09:58.368Z"
   },
   {
    "duration": 39,
    "start_time": "2022-02-03T17:09:58.490Z"
   },
   {
    "duration": 39,
    "start_time": "2022-02-03T17:09:58.533Z"
   },
   {
    "duration": 17,
    "start_time": "2022-02-03T17:09:58.575Z"
   },
   {
    "duration": 29,
    "start_time": "2022-02-03T17:09:58.594Z"
   },
   {
    "duration": 72,
    "start_time": "2022-02-03T17:09:58.626Z"
   },
   {
    "duration": 9,
    "start_time": "2022-02-03T17:09:58.700Z"
   },
   {
    "duration": 10,
    "start_time": "2022-02-03T17:09:58.712Z"
   },
   {
    "duration": 38,
    "start_time": "2022-02-03T17:10:49.550Z"
   },
   {
    "duration": 80,
    "start_time": "2022-02-03T17:20:04.073Z"
   },
   {
    "duration": 11,
    "start_time": "2022-02-03T17:33:47.449Z"
   },
   {
    "duration": 5,
    "start_time": "2022-02-03T17:33:53.359Z"
   },
   {
    "duration": 281,
    "start_time": "2022-02-03T17:34:20.818Z"
   },
   {
    "duration": 5,
    "start_time": "2022-02-03T17:34:51.772Z"
   },
   {
    "duration": 263,
    "start_time": "2022-02-03T17:34:52.554Z"
   },
   {
    "duration": 10,
    "start_time": "2022-02-03T17:35:15.297Z"
   },
   {
    "duration": 27,
    "start_time": "2022-02-03T17:35:23.562Z"
   },
   {
    "duration": 27,
    "start_time": "2022-02-03T17:35:29.942Z"
   },
   {
    "duration": 7,
    "start_time": "2022-02-03T17:35:38.536Z"
   },
   {
    "duration": 22,
    "start_time": "2022-02-03T17:41:13.273Z"
   },
   {
    "duration": 12,
    "start_time": "2022-02-03T17:42:14.010Z"
   },
   {
    "duration": 5,
    "start_time": "2022-02-03T17:53:18.146Z"
   },
   {
    "duration": 260,
    "start_time": "2022-02-03T17:53:44.536Z"
   },
   {
    "duration": 265,
    "start_time": "2022-02-03T17:54:51.103Z"
   },
   {
    "duration": 290,
    "start_time": "2022-02-03T17:55:13.296Z"
   },
   {
    "duration": 29,
    "start_time": "2022-02-03T17:55:40.335Z"
   },
   {
    "duration": 28,
    "start_time": "2022-02-03T17:55:45.037Z"
   },
   {
    "duration": 27,
    "start_time": "2022-02-03T17:55:50.430Z"
   },
   {
    "duration": 5,
    "start_time": "2022-02-03T17:56:27.663Z"
   },
   {
    "duration": 274,
    "start_time": "2022-02-03T17:56:35.968Z"
   },
   {
    "duration": 10,
    "start_time": "2022-02-03T17:56:45.833Z"
   },
   {
    "duration": 26,
    "start_time": "2022-02-03T17:56:49.896Z"
   },
   {
    "duration": 28,
    "start_time": "2022-02-03T17:56:54.255Z"
   },
   {
    "duration": 5,
    "start_time": "2022-02-03T17:57:27.805Z"
   },
   {
    "duration": 10,
    "start_time": "2022-02-03T17:57:28.344Z"
   },
   {
    "duration": 27,
    "start_time": "2022-02-03T17:57:28.896Z"
   },
   {
    "duration": 4,
    "start_time": "2022-02-03T17:58:32.443Z"
   },
   {
    "duration": 11,
    "start_time": "2022-02-03T17:58:33.405Z"
   },
   {
    "duration": 28,
    "start_time": "2022-02-03T17:58:34.038Z"
   },
   {
    "duration": 8,
    "start_time": "2022-02-03T17:58:44.487Z"
   },
   {
    "duration": 28,
    "start_time": "2022-02-03T17:58:48.160Z"
   },
   {
    "duration": 7,
    "start_time": "2022-02-03T17:58:51.947Z"
   },
   {
    "duration": 28,
    "start_time": "2022-02-03T17:58:56.945Z"
   },
   {
    "duration": 8,
    "start_time": "2022-02-03T17:58:59.931Z"
   },
   {
    "duration": 12,
    "start_time": "2022-02-03T17:59:04.634Z"
   },
   {
    "duration": 258,
    "start_time": "2022-02-03T17:59:06.865Z"
   },
   {
    "duration": 60,
    "start_time": "2022-02-03T17:59:22.285Z"
   },
   {
    "duration": 324,
    "start_time": "2022-02-03T17:59:32.295Z"
   },
   {
    "duration": 490,
    "start_time": "2022-02-03T18:01:04.380Z"
   },
   {
    "duration": 5,
    "start_time": "2022-02-03T18:03:19.479Z"
   },
   {
    "duration": 338,
    "start_time": "2022-02-03T18:04:33.338Z"
   },
   {
    "duration": 490,
    "start_time": "2022-02-03T18:05:19.267Z"
   },
   {
    "duration": 583,
    "start_time": "2022-02-03T18:06:05.259Z"
   },
   {
    "duration": 714,
    "start_time": "2022-02-03T18:06:18.523Z"
   },
   {
    "duration": 806,
    "start_time": "2022-02-03T18:06:40.778Z"
   },
   {
    "duration": 589,
    "start_time": "2022-02-03T18:07:19.166Z"
   },
   {
    "duration": 652,
    "start_time": "2022-02-03T18:07:26.798Z"
   },
   {
    "duration": 762,
    "start_time": "2022-02-03T18:07:43.652Z"
   },
   {
    "duration": 475,
    "start_time": "2022-02-03T18:07:54.596Z"
   },
   {
    "duration": 747,
    "start_time": "2022-02-03T18:08:27.314Z"
   },
   {
    "duration": 461,
    "start_time": "2022-02-03T18:23:05.709Z"
   },
   {
    "duration": 445,
    "start_time": "2022-02-03T18:23:11.837Z"
   },
   {
    "duration": 417,
    "start_time": "2022-02-03T18:24:42.256Z"
   },
   {
    "duration": 375,
    "start_time": "2022-02-03T18:25:27.208Z"
   },
   {
    "duration": 35,
    "start_time": "2022-02-03T18:28:38.707Z"
   },
   {
    "duration": 267,
    "start_time": "2022-02-03T18:39:48.228Z"
   },
   {
    "duration": 6,
    "start_time": "2022-02-03T18:40:24.437Z"
   },
   {
    "duration": 264,
    "start_time": "2022-02-03T18:40:30.165Z"
   },
   {
    "duration": 5,
    "start_time": "2022-02-03T18:41:20.300Z"
   },
   {
    "duration": 243,
    "start_time": "2022-02-03T18:41:53.276Z"
   },
   {
    "duration": 265,
    "start_time": "2022-02-03T18:42:06.952Z"
   },
   {
    "duration": 259,
    "start_time": "2022-02-03T18:45:53.597Z"
   },
   {
    "duration": 274,
    "start_time": "2022-02-03T18:46:35.451Z"
   },
   {
    "duration": 151496,
    "start_time": "2022-02-03T18:46:47.674Z"
   },
   {
    "duration": 269,
    "start_time": "2022-02-03T18:49:50.455Z"
   },
   {
    "duration": 6,
    "start_time": "2022-02-03T18:49:54.234Z"
   },
   {
    "duration": 298,
    "start_time": "2022-02-03T18:50:37.352Z"
   },
   {
    "duration": 250,
    "start_time": "2022-02-03T18:50:39.909Z"
   },
   {
    "duration": 6,
    "start_time": "2022-02-03T18:50:48.757Z"
   },
   {
    "duration": 1561,
    "start_time": "2022-02-03T18:53:09.726Z"
   },
   {
    "duration": 1353,
    "start_time": "2022-02-03T18:54:15.621Z"
   },
   {
    "duration": 562,
    "start_time": "2022-02-03T18:55:25.909Z"
   },
   {
    "duration": 1837,
    "start_time": "2022-02-03T18:55:27.487Z"
   },
   {
    "duration": 1744,
    "start_time": "2022-02-03T19:01:57.463Z"
   },
   {
    "duration": 451,
    "start_time": "2022-02-03T19:02:07.730Z"
   },
   {
    "duration": 1706,
    "start_time": "2022-02-03T19:02:09.863Z"
   },
   {
    "duration": 3511,
    "start_time": "2022-02-03T19:02:43.972Z"
   },
   {
    "duration": 1164,
    "start_time": "2022-02-05T11:24:28.576Z"
   },
   {
    "duration": 82,
    "start_time": "2022-02-05T11:24:29.742Z"
   },
   {
    "duration": 21,
    "start_time": "2022-02-05T11:24:29.826Z"
   },
   {
    "duration": 4,
    "start_time": "2022-02-05T11:24:29.849Z"
   },
   {
    "duration": 11,
    "start_time": "2022-02-05T11:24:29.854Z"
   },
   {
    "duration": 18,
    "start_time": "2022-02-05T11:24:29.867Z"
   },
   {
    "duration": 49,
    "start_time": "2022-02-05T11:24:29.886Z"
   },
   {
    "duration": 4,
    "start_time": "2022-02-05T11:25:38.388Z"
   },
   {
    "duration": 491,
    "start_time": "2022-02-05T11:28:06.035Z"
   },
   {
    "duration": 253,
    "start_time": "2022-02-05T11:29:08.404Z"
   },
   {
    "duration": 4,
    "start_time": "2022-02-05T11:29:22.904Z"
   },
   {
    "duration": 84,
    "start_time": "2022-02-05T11:29:22.910Z"
   },
   {
    "duration": 27,
    "start_time": "2022-02-05T11:29:22.996Z"
   },
   {
    "duration": 4,
    "start_time": "2022-02-05T11:29:23.025Z"
   },
   {
    "duration": 14,
    "start_time": "2022-02-05T11:29:23.030Z"
   },
   {
    "duration": 20,
    "start_time": "2022-02-05T11:29:23.045Z"
   },
   {
    "duration": 22,
    "start_time": "2022-02-05T11:29:23.067Z"
   },
   {
    "duration": 33,
    "start_time": "2022-02-05T11:29:23.091Z"
   },
   {
    "duration": 3,
    "start_time": "2022-02-05T11:29:23.126Z"
   },
   {
    "duration": 586,
    "start_time": "2022-02-05T11:29:28.224Z"
   },
   {
    "duration": 283,
    "start_time": "2022-02-05T11:32:01.143Z"
   },
   {
    "duration": 271,
    "start_time": "2022-02-05T11:32:17.260Z"
   },
   {
    "duration": 4,
    "start_time": "2022-02-05T11:33:25.427Z"
   },
   {
    "duration": 5,
    "start_time": "2022-02-05T11:33:54.263Z"
   },
   {
    "duration": 4,
    "start_time": "2022-02-05T11:33:56.059Z"
   },
   {
    "duration": 4,
    "start_time": "2022-02-05T11:34:16.823Z"
   },
   {
    "duration": 532,
    "start_time": "2022-02-05T11:34:45.091Z"
   },
   {
    "duration": 479,
    "start_time": "2022-02-05T11:35:49.340Z"
   },
   {
    "duration": 2296,
    "start_time": "2022-02-05T11:36:52.227Z"
   },
   {
    "duration": 2479,
    "start_time": "2022-02-05T11:37:15.887Z"
   },
   {
    "duration": 2436,
    "start_time": "2022-02-05T11:37:38.315Z"
   },
   {
    "duration": 363,
    "start_time": "2022-02-05T11:37:56.159Z"
   },
   {
    "duration": 2342,
    "start_time": "2022-02-05T11:37:58.971Z"
   },
   {
    "duration": 3,
    "start_time": "2022-02-05T11:56:04.435Z"
   },
   {
    "duration": 17,
    "start_time": "2022-02-05T11:56:10.759Z"
   },
   {
    "duration": 18,
    "start_time": "2022-02-05T11:56:16.100Z"
   },
   {
    "duration": 48,
    "start_time": "2022-02-05T11:56:24.581Z"
   },
   {
    "duration": 98,
    "start_time": "2022-02-05T11:59:40.496Z"
   },
   {
    "duration": 274,
    "start_time": "2022-02-05T12:00:16.007Z"
   },
   {
    "duration": 23,
    "start_time": "2022-02-05T12:00:26.220Z"
   },
   {
    "duration": 37,
    "start_time": "2022-02-05T12:00:28.556Z"
   },
   {
    "duration": 23,
    "start_time": "2022-02-05T12:00:38.152Z"
   },
   {
    "duration": 16,
    "start_time": "2022-02-05T12:00:41.787Z"
   },
   {
    "duration": 19,
    "start_time": "2022-02-05T12:00:48.023Z"
   },
   {
    "duration": 19,
    "start_time": "2022-02-05T12:00:59.560Z"
   },
   {
    "duration": 19,
    "start_time": "2022-02-05T12:01:05.545Z"
   },
   {
    "duration": 27,
    "start_time": "2022-02-05T12:02:16.135Z"
   },
   {
    "duration": 18,
    "start_time": "2022-02-05T12:02:19.763Z"
   },
   {
    "duration": 26,
    "start_time": "2022-02-05T12:02:27.851Z"
   },
   {
    "duration": 18,
    "start_time": "2022-02-05T12:02:28.728Z"
   },
   {
    "duration": 29,
    "start_time": "2022-02-05T12:02:36.621Z"
   },
   {
    "duration": 18,
    "start_time": "2022-02-05T12:02:37.419Z"
   },
   {
    "duration": 3,
    "start_time": "2022-02-05T12:04:35.076Z"
   },
   {
    "duration": 18,
    "start_time": "2022-02-05T12:04:38.500Z"
   },
   {
    "duration": 372,
    "start_time": "2022-02-05T12:04:51.292Z"
   },
   {
    "duration": 3,
    "start_time": "2022-02-05T12:04:56.812Z"
   },
   {
    "duration": 272,
    "start_time": "2022-02-05T12:04:57.439Z"
   },
   {
    "duration": 489,
    "start_time": "2022-02-05T12:05:04.572Z"
   },
   {
    "duration": 17,
    "start_time": "2022-02-05T12:05:05.855Z"
   },
   {
    "duration": 295,
    "start_time": "2022-02-05T12:05:11.031Z"
   },
   {
    "duration": 39,
    "start_time": "2022-02-05T12:05:35.043Z"
   },
   {
    "duration": 17,
    "start_time": "2022-02-05T12:05:35.790Z"
   },
   {
    "duration": 3,
    "start_time": "2022-02-05T12:06:53.988Z"
   },
   {
    "duration": 4,
    "start_time": "2022-02-05T12:07:45.912Z"
   },
   {
    "duration": 4,
    "start_time": "2022-02-05T12:08:13.104Z"
   },
   {
    "duration": 4,
    "start_time": "2022-02-05T12:08:29.568Z"
   },
   {
    "duration": 1100,
    "start_time": "2022-02-05T15:09:01.507Z"
   },
   {
    "duration": 80,
    "start_time": "2022-02-05T15:09:04.722Z"
   },
   {
    "duration": 23,
    "start_time": "2022-02-05T15:09:13.122Z"
   },
   {
    "duration": 4,
    "start_time": "2022-02-05T15:09:15.586Z"
   },
   {
    "duration": 9,
    "start_time": "2022-02-05T15:09:16.310Z"
   },
   {
    "duration": 19,
    "start_time": "2022-02-05T15:09:18.261Z"
   },
   {
    "duration": 24,
    "start_time": "2022-02-05T15:09:20.310Z"
   },
   {
    "duration": 9,
    "start_time": "2022-02-05T15:09:23.666Z"
   },
   {
    "duration": 4,
    "start_time": "2022-02-05T15:09:25.690Z"
   },
   {
    "duration": 447,
    "start_time": "2022-02-05T15:09:28.770Z"
   },
   {
    "duration": 2276,
    "start_time": "2022-02-05T15:09:37.162Z"
   },
   {
    "duration": 3,
    "start_time": "2022-02-05T15:09:54.218Z"
   },
   {
    "duration": 28,
    "start_time": "2022-02-05T15:16:58.726Z"
   },
   {
    "duration": 36,
    "start_time": "2022-02-05T15:17:11.318Z"
   },
   {
    "duration": 19,
    "start_time": "2022-02-05T15:17:12.138Z"
   },
   {
    "duration": 33,
    "start_time": "2022-02-05T15:17:16.662Z"
   },
   {
    "duration": 19,
    "start_time": "2022-02-05T15:17:17.582Z"
   },
   {
    "duration": 33,
    "start_time": "2022-02-05T15:17:21.094Z"
   },
   {
    "duration": 19,
    "start_time": "2022-02-05T15:17:22.006Z"
   },
   {
    "duration": 31,
    "start_time": "2022-02-05T15:17:28.754Z"
   },
   {
    "duration": 19,
    "start_time": "2022-02-05T15:17:29.582Z"
   },
   {
    "duration": 311,
    "start_time": "2022-02-05T15:17:45.210Z"
   },
   {
    "duration": 237,
    "start_time": "2022-02-05T15:18:03.026Z"
   },
   {
    "duration": 28,
    "start_time": "2022-02-05T15:18:34.206Z"
   },
   {
    "duration": 18,
    "start_time": "2022-02-05T15:18:35.114Z"
   },
   {
    "duration": 16,
    "start_time": "2022-02-05T15:19:04.346Z"
   },
   {
    "duration": 17,
    "start_time": "2022-02-05T15:19:24.274Z"
   },
   {
    "duration": 30,
    "start_time": "2022-02-05T15:20:34.162Z"
   },
   {
    "duration": 23,
    "start_time": "2022-02-05T15:20:38.438Z"
   },
   {
    "duration": 16,
    "start_time": "2022-02-05T15:21:03.318Z"
   },
   {
    "duration": 41,
    "start_time": "2022-02-05T15:23:53.851Z"
   },
   {
    "duration": 30,
    "start_time": "2022-02-05T15:24:15.450Z"
   },
   {
    "duration": 19,
    "start_time": "2022-02-05T15:24:20.262Z"
   },
   {
    "duration": 32,
    "start_time": "2022-02-05T15:24:31.614Z"
   },
   {
    "duration": 18,
    "start_time": "2022-02-05T15:24:32.314Z"
   },
   {
    "duration": 5,
    "start_time": "2022-02-05T15:29:59.754Z"
   },
   {
    "duration": 4,
    "start_time": "2022-02-05T15:32:08.443Z"
   },
   {
    "duration": 40,
    "start_time": "2022-02-05T15:36:48.731Z"
   },
   {
    "duration": 240,
    "start_time": "2022-02-05T15:46:21.170Z"
   },
   {
    "duration": 21,
    "start_time": "2022-02-05T15:46:50.339Z"
   },
   {
    "duration": 5,
    "start_time": "2022-02-05T15:54:42.672Z"
   },
   {
    "duration": 537,
    "start_time": "2022-02-05T15:54:44.975Z"
   },
   {
    "duration": 897,
    "start_time": "2022-02-05T15:55:48.415Z"
   },
   {
    "duration": 792,
    "start_time": "2022-02-05T15:56:09.223Z"
   },
   {
    "duration": 30,
    "start_time": "2022-02-05T15:57:03.572Z"
   },
   {
    "duration": 19,
    "start_time": "2022-02-05T15:57:13.163Z"
   },
   {
    "duration": 217,
    "start_time": "2022-02-05T15:58:02.924Z"
   },
   {
    "duration": 17,
    "start_time": "2022-02-05T15:58:08.148Z"
   },
   {
    "duration": 201,
    "start_time": "2022-02-05T16:01:01.212Z"
   },
   {
    "duration": 4,
    "start_time": "2022-02-05T16:01:04.836Z"
   },
   {
    "duration": 6,
    "start_time": "2022-02-05T16:01:09.397Z"
   },
   {
    "duration": 6,
    "start_time": "2022-02-05T16:02:29.529Z"
   },
   {
    "duration": 397,
    "start_time": "2022-02-05T16:02:36.765Z"
   },
   {
    "duration": 395,
    "start_time": "2022-02-05T16:03:04.721Z"
   },
   {
    "duration": 204,
    "start_time": "2022-02-05T16:04:33.289Z"
   },
   {
    "duration": 15,
    "start_time": "2022-02-05T16:04:58.669Z"
   },
   {
    "duration": 16,
    "start_time": "2022-02-05T16:05:19.372Z"
   },
   {
    "duration": 4,
    "start_time": "2022-02-05T16:06:44.677Z"
   },
   {
    "duration": 18,
    "start_time": "2022-02-05T16:06:50.284Z"
   },
   {
    "duration": 19,
    "start_time": "2022-02-05T16:06:58.717Z"
   },
   {
    "duration": 33,
    "start_time": "2022-02-05T16:07:09.465Z"
   },
   {
    "duration": 4,
    "start_time": "2022-02-05T16:07:30.953Z"
   },
   {
    "duration": 198,
    "start_time": "2022-02-05T16:07:31.641Z"
   },
   {
    "duration": 19,
    "start_time": "2022-02-05T16:07:53.666Z"
   },
   {
    "duration": 2,
    "start_time": "2022-02-05T16:08:06.009Z"
   },
   {
    "duration": 4,
    "start_time": "2022-02-05T16:08:17.061Z"
   },
   {
    "duration": 79,
    "start_time": "2022-02-05T16:08:17.067Z"
   },
   {
    "duration": 24,
    "start_time": "2022-02-05T16:08:17.148Z"
   },
   {
    "duration": 4,
    "start_time": "2022-02-05T16:08:17.175Z"
   },
   {
    "duration": 32,
    "start_time": "2022-02-05T16:08:17.180Z"
   },
   {
    "duration": 19,
    "start_time": "2022-02-05T16:08:17.214Z"
   },
   {
    "duration": 23,
    "start_time": "2022-02-05T16:08:17.236Z"
   },
   {
    "duration": 6,
    "start_time": "2022-02-05T16:08:17.261Z"
   },
   {
    "duration": 10,
    "start_time": "2022-02-05T16:08:17.268Z"
   },
   {
    "duration": 540,
    "start_time": "2022-02-05T16:08:17.280Z"
   },
   {
    "duration": 2419,
    "start_time": "2022-02-05T16:08:17.824Z"
   },
   {
    "duration": 1176,
    "start_time": "2022-02-05T16:08:41.487Z"
   },
   {
    "duration": 83,
    "start_time": "2022-02-05T16:08:42.665Z"
   },
   {
    "duration": 22,
    "start_time": "2022-02-05T16:08:42.750Z"
   },
   {
    "duration": 4,
    "start_time": "2022-02-05T16:08:42.774Z"
   },
   {
    "duration": 9,
    "start_time": "2022-02-05T16:08:42.780Z"
   },
   {
    "duration": 39,
    "start_time": "2022-02-05T16:08:42.791Z"
   },
   {
    "duration": 23,
    "start_time": "2022-02-05T16:08:42.832Z"
   },
   {
    "duration": 8,
    "start_time": "2022-02-05T16:08:42.857Z"
   },
   {
    "duration": 3,
    "start_time": "2022-02-05T16:08:42.867Z"
   },
   {
    "duration": 843,
    "start_time": "2022-02-05T16:08:42.871Z"
   },
   {
    "duration": 2359,
    "start_time": "2022-02-05T16:08:43.716Z"
   },
   {
    "duration": 4,
    "start_time": "2022-02-05T16:08:46.077Z"
   },
   {
    "duration": 10,
    "start_time": "2022-02-05T16:08:46.082Z"
   },
   {
    "duration": 19,
    "start_time": "2022-02-05T16:08:46.093Z"
   },
   {
    "duration": 4,
    "start_time": "2022-02-05T16:08:46.114Z"
   },
   {
    "duration": 3,
    "start_time": "2022-02-05T16:08:46.120Z"
   },
   {
    "duration": 19,
    "start_time": "2022-02-05T16:08:56.675Z"
   },
   {
    "duration": 287,
    "start_time": "2022-02-05T16:09:13.383Z"
   },
   {
    "duration": 19,
    "start_time": "2022-02-05T16:09:17.119Z"
   },
   {
    "duration": 14,
    "start_time": "2022-02-05T16:09:17.824Z"
   },
   {
    "duration": 5,
    "start_time": "2022-02-05T16:11:43.336Z"
   },
   {
    "duration": 17,
    "start_time": "2022-02-05T16:11:44.048Z"
   },
   {
    "duration": 12,
    "start_time": "2022-02-05T16:11:44.836Z"
   },
   {
    "duration": 202,
    "start_time": "2022-02-05T16:12:45.019Z"
   },
   {
    "duration": 3,
    "start_time": "2022-02-05T16:12:57.592Z"
   },
   {
    "duration": 17,
    "start_time": "2022-02-05T16:17:57.648Z"
   },
   {
    "duration": 45,
    "start_time": "2022-02-05T16:18:02.924Z"
   },
   {
    "duration": 491,
    "start_time": "2022-02-05T16:18:08.322Z"
   },
   {
    "duration": 5,
    "start_time": "2022-02-05T16:18:15.120Z"
   },
   {
    "duration": 190,
    "start_time": "2022-02-05T16:20:14.684Z"
   },
   {
    "duration": 57,
    "start_time": "2022-02-05T16:20:29.056Z"
   },
   {
    "duration": 189,
    "start_time": "2022-02-05T16:20:50.912Z"
   },
   {
    "duration": 191,
    "start_time": "2022-02-05T16:21:20.576Z"
   },
   {
    "duration": 7,
    "start_time": "2022-02-05T16:21:26.324Z"
   },
   {
    "duration": 4,
    "start_time": "2022-02-05T16:21:41.836Z"
   },
   {
    "duration": 1139,
    "start_time": "2022-02-05T16:22:32.078Z"
   },
   {
    "duration": 84,
    "start_time": "2022-02-05T16:22:33.220Z"
   },
   {
    "duration": 25,
    "start_time": "2022-02-05T16:22:33.312Z"
   },
   {
    "duration": 5,
    "start_time": "2022-02-05T16:22:33.339Z"
   },
   {
    "duration": 10,
    "start_time": "2022-02-05T16:22:33.346Z"
   },
   {
    "duration": 19,
    "start_time": "2022-02-05T16:22:33.358Z"
   },
   {
    "duration": 50,
    "start_time": "2022-02-05T16:22:33.378Z"
   },
   {
    "duration": 8,
    "start_time": "2022-02-05T16:22:33.431Z"
   },
   {
    "duration": 4,
    "start_time": "2022-02-05T16:22:33.441Z"
   },
   {
    "duration": 567,
    "start_time": "2022-02-05T16:22:33.447Z"
   },
   {
    "duration": 2459,
    "start_time": "2022-02-05T16:22:34.017Z"
   },
   {
    "duration": 4,
    "start_time": "2022-02-05T16:22:36.477Z"
   },
   {
    "duration": 30,
    "start_time": "2022-02-05T16:22:36.484Z"
   },
   {
    "duration": 97,
    "start_time": "2022-02-05T16:22:36.516Z"
   },
   {
    "duration": 372,
    "start_time": "2022-02-05T16:22:36.616Z"
   },
   {
    "duration": -38817,
    "start_time": "2022-02-05T16:23:15.806Z"
   },
   {
    "duration": -38829,
    "start_time": "2022-02-05T16:23:15.819Z"
   },
   {
    "duration": -38833,
    "start_time": "2022-02-05T16:23:15.825Z"
   },
   {
    "duration": 1169,
    "start_time": "2022-02-05T16:23:18.251Z"
   },
   {
    "duration": 95,
    "start_time": "2022-02-05T16:23:19.422Z"
   },
   {
    "duration": 25,
    "start_time": "2022-02-05T16:23:19.520Z"
   },
   {
    "duration": 6,
    "start_time": "2022-02-05T16:23:19.547Z"
   },
   {
    "duration": 25,
    "start_time": "2022-02-05T16:23:19.554Z"
   },
   {
    "duration": 42,
    "start_time": "2022-02-05T16:23:19.581Z"
   },
   {
    "duration": 26,
    "start_time": "2022-02-05T16:23:19.625Z"
   },
   {
    "duration": 8,
    "start_time": "2022-02-05T16:23:19.655Z"
   },
   {
    "duration": 11,
    "start_time": "2022-02-05T16:23:19.665Z"
   },
   {
    "duration": 446,
    "start_time": "2022-02-05T16:23:19.677Z"
   },
   {
    "duration": 2521,
    "start_time": "2022-02-05T16:23:20.214Z"
   },
   {
    "duration": 4,
    "start_time": "2022-02-05T16:23:22.737Z"
   },
   {
    "duration": 17,
    "start_time": "2022-02-05T16:23:22.743Z"
   },
   {
    "duration": 70,
    "start_time": "2022-02-05T16:23:22.762Z"
   },
   {
    "duration": 10,
    "start_time": "2022-02-05T16:23:22.913Z"
   },
   {
    "duration": 92,
    "start_time": "2022-02-05T16:23:22.926Z"
   },
   {
    "duration": 3,
    "start_time": "2022-02-05T16:23:23.020Z"
   },
   {
    "duration": 6,
    "start_time": "2022-02-05T16:23:23.025Z"
   },
   {
    "duration": 71,
    "start_time": "2022-02-05T16:23:35.896Z"
   },
   {
    "duration": 345,
    "start_time": "2022-02-05T16:23:42.675Z"
   },
   {
    "duration": 450,
    "start_time": "2022-02-05T16:23:47.567Z"
   },
   {
    "duration": 466,
    "start_time": "2022-02-05T16:24:11.455Z"
   },
   {
    "duration": 404,
    "start_time": "2022-02-05T16:24:23.018Z"
   },
   {
    "duration": 536,
    "start_time": "2022-02-05T16:25:37.378Z"
   },
   {
    "duration": 304,
    "start_time": "2022-02-05T16:25:59.818Z"
   },
   {
    "duration": 475,
    "start_time": "2022-02-05T16:26:09.343Z"
   },
   {
    "duration": 387,
    "start_time": "2022-02-05T16:28:25.231Z"
   },
   {
    "duration": 6,
    "start_time": "2022-02-05T16:28:27.815Z"
   },
   {
    "duration": 7,
    "start_time": "2022-02-05T16:28:37.255Z"
   },
   {
    "duration": 378,
    "start_time": "2022-02-05T16:28:39.439Z"
   },
   {
    "duration": 9,
    "start_time": "2022-02-05T16:28:40.778Z"
   },
   {
    "duration": 202,
    "start_time": "2022-02-05T16:30:03.516Z"
   },
   {
    "duration": 135,
    "start_time": "2022-02-05T16:30:15.579Z"
   },
   {
    "duration": 87,
    "start_time": "2022-02-05T16:30:20.827Z"
   },
   {
    "duration": 261,
    "start_time": "2022-02-05T16:30:35.555Z"
   },
   {
    "duration": 252,
    "start_time": "2022-02-05T16:30:42.263Z"
   },
   {
    "duration": 291,
    "start_time": "2022-02-05T16:30:50.323Z"
   },
   {
    "duration": 1652,
    "start_time": "2022-02-05T16:31:31.751Z"
   },
   {
    "duration": 54,
    "start_time": "2022-02-05T16:32:16.271Z"
   },
   {
    "duration": 1681,
    "start_time": "2022-02-05T16:32:18.031Z"
   },
   {
    "duration": 1394,
    "start_time": "2022-02-05T16:33:14.379Z"
   },
   {
    "duration": 1104,
    "start_time": "2022-02-05T16:34:01.035Z"
   },
   {
    "duration": 1093,
    "start_time": "2022-02-05T16:34:11.403Z"
   },
   {
    "duration": 6,
    "start_time": "2022-02-05T16:34:15.655Z"
   },
   {
    "duration": 1678,
    "start_time": "2022-02-05T16:35:32.659Z"
   },
   {
    "duration": 1287,
    "start_time": "2022-02-05T16:36:02.103Z"
   },
   {
    "duration": 4,
    "start_time": "2022-02-05T16:36:19.527Z"
   },
   {
    "duration": 4,
    "start_time": "2022-02-05T16:36:22.668Z"
   },
   {
    "duration": 17,
    "start_time": "2022-02-05T16:36:23.895Z"
   },
   {
    "duration": 1114,
    "start_time": "2022-02-05T16:36:24.431Z"
   },
   {
    "duration": 55,
    "start_time": "2022-02-05T16:37:08.859Z"
   },
   {
    "duration": 1581,
    "start_time": "2022-02-05T16:37:10.775Z"
   },
   {
    "duration": 4,
    "start_time": "2022-02-05T16:37:18.028Z"
   },
   {
    "duration": 16,
    "start_time": "2022-02-05T16:37:18.395Z"
   },
   {
    "duration": 1094,
    "start_time": "2022-02-05T16:37:19.407Z"
   },
   {
    "duration": 1795,
    "start_time": "2022-02-05T16:38:45.076Z"
   },
   {
    "duration": 1089,
    "start_time": "2022-02-05T16:39:43.167Z"
   },
   {
    "duration": 128,
    "start_time": "2022-02-05T16:40:58.887Z"
   },
   {
    "duration": 1578,
    "start_time": "2022-02-05T16:41:01.195Z"
   },
   {
    "duration": 4,
    "start_time": "2022-02-05T16:41:06.112Z"
   },
   {
    "duration": 16,
    "start_time": "2022-02-05T16:41:06.916Z"
   },
   {
    "duration": 64,
    "start_time": "2022-02-05T16:41:13.559Z"
   },
   {
    "duration": 1124,
    "start_time": "2022-02-05T16:41:25.395Z"
   },
   {
    "duration": 96,
    "start_time": "2022-02-05T16:41:31.523Z"
   },
   {
    "duration": 1068,
    "start_time": "2022-02-05T16:41:33.887Z"
   },
   {
    "duration": 62,
    "start_time": "2022-02-05T16:45:16.768Z"
   },
   {
    "duration": 1698,
    "start_time": "2022-02-06T08:39:30.231Z"
   },
   {
    "duration": 122,
    "start_time": "2022-02-06T08:39:31.932Z"
   },
   {
    "duration": 47,
    "start_time": "2022-02-06T08:39:32.058Z"
   },
   {
    "duration": 7,
    "start_time": "2022-02-06T08:39:32.107Z"
   },
   {
    "duration": 20,
    "start_time": "2022-02-06T08:39:32.117Z"
   },
   {
    "duration": 33,
    "start_time": "2022-02-06T08:39:32.899Z"
   },
   {
    "duration": 43,
    "start_time": "2022-02-06T08:39:33.190Z"
   },
   {
    "duration": 13,
    "start_time": "2022-02-06T08:39:35.418Z"
   },
   {
    "duration": 5,
    "start_time": "2022-02-06T08:39:36.337Z"
   },
   {
    "duration": 188,
    "start_time": "2022-02-06T08:39:38.084Z"
   },
   {
    "duration": 3497,
    "start_time": "2022-02-06T08:39:44.016Z"
   },
   {
    "duration": 8,
    "start_time": "2022-02-06T08:40:21.536Z"
   },
   {
    "duration": 33,
    "start_time": "2022-02-06T08:40:23.104Z"
   },
   {
    "duration": 219,
    "start_time": "2022-02-06T08:40:25.753Z"
   },
   {
    "duration": 2395,
    "start_time": "2022-02-06T08:40:28.683Z"
   },
   {
    "duration": 219,
    "start_time": "2022-02-06T09:09:13.851Z"
   },
   {
    "duration": 1681,
    "start_time": "2022-02-06T09:10:11.259Z"
   },
   {
    "duration": 5,
    "start_time": "2022-02-06T09:15:53.389Z"
   },
   {
    "duration": 17,
    "start_time": "2022-02-06T09:16:15.477Z"
   },
   {
    "duration": 78,
    "start_time": "2022-02-06T09:17:13.701Z"
   },
   {
    "duration": 2427,
    "start_time": "2022-02-06T09:18:55.731Z"
   },
   {
    "duration": 152,
    "start_time": "2022-02-06T09:19:28.620Z"
   },
   {
    "duration": 1880,
    "start_time": "2022-02-06T09:19:35.546Z"
   },
   {
    "duration": 182,
    "start_time": "2022-02-06T09:20:13.703Z"
   },
   {
    "duration": 1230,
    "start_time": "2022-02-06T09:20:32.594Z"
   },
   {
    "duration": 4,
    "start_time": "2022-02-06T09:21:48.648Z"
   },
   {
    "duration": 163,
    "start_time": "2022-02-06T09:21:50.909Z"
   },
   {
    "duration": 5,
    "start_time": "2022-02-06T09:22:01.914Z"
   },
   {
    "duration": 212,
    "start_time": "2022-02-06T09:22:02.958Z"
   },
   {
    "duration": 5,
    "start_time": "2022-02-06T09:22:17.286Z"
   },
   {
    "duration": 91,
    "start_time": "2022-02-06T09:22:17.294Z"
   },
   {
    "duration": 4,
    "start_time": "2022-02-06T09:24:08.554Z"
   },
   {
    "duration": 99,
    "start_time": "2022-02-06T09:26:30.978Z"
   },
   {
    "duration": 105,
    "start_time": "2022-02-06T09:26:59.854Z"
   },
   {
    "duration": 1211,
    "start_time": "2022-02-06T09:27:03.506Z"
   },
   {
    "duration": 95,
    "start_time": "2022-02-06T09:27:04.720Z"
   },
   {
    "duration": 75,
    "start_time": "2022-02-06T09:30:07.402Z"
   },
   {
    "duration": 1311,
    "start_time": "2022-02-06T09:30:08.324Z"
   },
   {
    "duration": 4,
    "start_time": "2022-02-06T09:31:53.488Z"
   },
   {
    "duration": 1902,
    "start_time": "2022-02-06T09:38:31.228Z"
   },
   {
    "duration": 5,
    "start_time": "2022-02-06T09:38:34.487Z"
   },
   {
    "duration": 6,
    "start_time": "2022-02-06T09:38:39.353Z"
   },
   {
    "duration": 197,
    "start_time": "2022-02-06T09:51:52.900Z"
   },
   {
    "duration": 5,
    "start_time": "2022-02-06T09:52:06.336Z"
   },
   {
    "duration": 195,
    "start_time": "2022-02-06T09:52:08.103Z"
   },
   {
    "duration": 5,
    "start_time": "2022-02-06T09:52:08.916Z"
   },
   {
    "duration": 3753,
    "start_time": "2022-02-06T09:52:12.448Z"
   },
   {
    "duration": 5,
    "start_time": "2022-02-06T09:52:18.517Z"
   },
   {
    "duration": 12,
    "start_time": "2022-02-06T09:52:32.933Z"
   },
   {
    "duration": 7,
    "start_time": "2022-02-06T09:53:51.947Z"
   },
   {
    "duration": 407,
    "start_time": "2022-02-06T09:54:13.444Z"
   },
   {
    "duration": 6,
    "start_time": "2022-02-06T09:54:16.424Z"
   },
   {
    "duration": 1839,
    "start_time": "2022-02-06T09:54:28.630Z"
   },
   {
    "duration": 5,
    "start_time": "2022-02-06T09:54:33.092Z"
   },
   {
    "duration": 6,
    "start_time": "2022-02-06T09:57:32.120Z"
   },
   {
    "duration": 6,
    "start_time": "2022-02-06T09:57:39.080Z"
   },
   {
    "duration": 330,
    "start_time": "2022-02-06T09:59:39.349Z"
   },
   {
    "duration": 4,
    "start_time": "2022-02-06T09:59:46.868Z"
   },
   {
    "duration": 6,
    "start_time": "2022-02-06T09:59:50.718Z"
   },
   {
    "duration": 298,
    "start_time": "2022-02-06T10:01:24.232Z"
   },
   {
    "duration": 274,
    "start_time": "2022-02-06T10:01:26.846Z"
   },
   {
    "duration": 8,
    "start_time": "2022-02-06T10:01:50.691Z"
   },
   {
    "duration": 5,
    "start_time": "2022-02-06T10:01:54.600Z"
   },
   {
    "duration": 7,
    "start_time": "2022-02-06T10:01:56.017Z"
   },
   {
    "duration": 6,
    "start_time": "2022-02-06T10:01:56.485Z"
   },
   {
    "duration": 13,
    "start_time": "2022-02-06T10:02:20.986Z"
   },
   {
    "duration": 7,
    "start_time": "2022-02-06T10:02:46.321Z"
   },
   {
    "duration": 4,
    "start_time": "2022-02-06T10:02:46.892Z"
   },
   {
    "duration": 16,
    "start_time": "2022-02-06T10:03:13.101Z"
   },
   {
    "duration": 8,
    "start_time": "2022-02-06T10:04:31.903Z"
   },
   {
    "duration": 16789,
    "start_time": "2022-02-06T10:22:49.117Z"
   },
   {
    "duration": 17267,
    "start_time": "2022-02-06T10:23:44.025Z"
   },
   {
    "duration": 67945,
    "start_time": "2022-02-06T10:28:43.393Z"
   },
   {
    "duration": 19154,
    "start_time": "2022-02-06T10:29:58.562Z"
   },
   {
    "duration": 513,
    "start_time": "2022-02-06T10:31:34.177Z"
   },
   {
    "duration": 579,
    "start_time": "2022-02-06T10:32:01.663Z"
   },
   {
    "duration": 5,
    "start_time": "2022-02-06T10:32:11.576Z"
   },
   {
    "duration": 5,
    "start_time": "2022-02-06T10:32:20.818Z"
   },
   {
    "duration": 326,
    "start_time": "2022-02-06T10:32:58.167Z"
   },
   {
    "duration": 7,
    "start_time": "2022-02-06T10:33:12.843Z"
   },
   {
    "duration": 557,
    "start_time": "2022-02-06T10:33:37.330Z"
   },
   {
    "duration": 266,
    "start_time": "2022-02-06T10:33:48.685Z"
   },
   {
    "duration": 34362,
    "start_time": "2022-02-06T10:34:27.201Z"
   },
   {
    "duration": 241,
    "start_time": "2022-02-06T10:35:38.602Z"
   },
   {
    "duration": 688,
    "start_time": "2022-02-06T10:36:13.926Z"
   },
   {
    "duration": 390,
    "start_time": "2022-02-06T10:36:21.058Z"
   },
   {
    "duration": 288,
    "start_time": "2022-02-06T10:36:50.863Z"
   },
   {
    "duration": 380,
    "start_time": "2022-02-06T10:36:59.630Z"
   },
   {
    "duration": 630,
    "start_time": "2022-02-06T10:37:03.505Z"
   },
   {
    "duration": 623,
    "start_time": "2022-02-06T10:41:04.836Z"
   },
   {
    "duration": 651,
    "start_time": "2022-02-06T10:41:10.078Z"
   },
   {
    "duration": 403,
    "start_time": "2022-02-06T10:41:24.271Z"
   },
   {
    "duration": 408,
    "start_time": "2022-02-06T10:45:42.454Z"
   },
   {
    "duration": 418,
    "start_time": "2022-02-06T10:45:49.936Z"
   },
   {
    "duration": 99,
    "start_time": "2022-02-06T10:48:55.002Z"
   },
   {
    "duration": 38298,
    "start_time": "2022-02-06T10:53:26.296Z"
   },
   {
    "duration": 1511,
    "start_time": "2022-02-06T15:47:22.818Z"
   },
   {
    "duration": 117,
    "start_time": "2022-02-06T15:47:24.332Z"
   },
   {
    "duration": 47,
    "start_time": "2022-02-06T15:47:24.452Z"
   },
   {
    "duration": 6,
    "start_time": "2022-02-06T15:47:24.776Z"
   },
   {
    "duration": 12,
    "start_time": "2022-02-06T15:47:25.098Z"
   },
   {
    "duration": 29,
    "start_time": "2022-02-06T15:47:25.369Z"
   },
   {
    "duration": 36,
    "start_time": "2022-02-06T15:47:26.291Z"
   },
   {
    "duration": 13,
    "start_time": "2022-02-06T15:47:27.946Z"
   },
   {
    "duration": 4,
    "start_time": "2022-02-06T15:47:28.237Z"
   },
   {
    "duration": 6,
    "start_time": "2022-02-06T15:47:29.003Z"
   },
   {
    "duration": 81,
    "start_time": "2022-02-06T15:47:29.793Z"
   },
   {
    "duration": 2435,
    "start_time": "2022-02-06T15:47:30.851Z"
   },
   {
    "duration": 6,
    "start_time": "2022-02-06T15:47:33.288Z"
   },
   {
    "duration": 22,
    "start_time": "2022-02-06T15:47:33.437Z"
   },
   {
    "duration": 113,
    "start_time": "2022-02-06T15:47:34.365Z"
   },
   {
    "duration": 1628,
    "start_time": "2022-02-06T15:47:35.384Z"
   },
   {
    "duration": 70,
    "start_time": "2022-02-06T15:47:37.204Z"
   },
   {
    "duration": 1177,
    "start_time": "2022-02-06T15:47:38.103Z"
   },
   {
    "duration": 84,
    "start_time": "2022-02-06T15:49:29.404Z"
   },
   {
    "duration": 32,
    "start_time": "2022-02-06T15:51:07.582Z"
   },
   {
    "duration": 27,
    "start_time": "2022-02-06T15:51:19.560Z"
   },
   {
    "duration": 6,
    "start_time": "2022-02-06T15:53:06.907Z"
   },
   {
    "duration": 5,
    "start_time": "2022-02-06T15:53:10.177Z"
   },
   {
    "duration": 41747,
    "start_time": "2022-02-06T15:53:16.062Z"
   },
   {
    "duration": 5,
    "start_time": "2022-02-06T15:58:34.249Z"
   },
   {
    "duration": 85,
    "start_time": "2022-02-06T15:58:52.390Z"
   },
   {
    "duration": 78,
    "start_time": "2022-02-06T15:59:10.380Z"
   },
   {
    "duration": 85,
    "start_time": "2022-02-06T15:59:14.401Z"
   },
   {
    "duration": 94,
    "start_time": "2022-02-06T15:59:17.251Z"
   },
   {
    "duration": 80,
    "start_time": "2022-02-06T16:01:57.217Z"
   },
   {
    "duration": 1548,
    "start_time": "2022-02-06T16:04:54.718Z"
   },
   {
    "duration": 126,
    "start_time": "2022-02-06T16:04:56.270Z"
   },
   {
    "duration": 42,
    "start_time": "2022-02-06T16:04:56.399Z"
   },
   {
    "duration": 29,
    "start_time": "2022-02-06T16:04:56.444Z"
   },
   {
    "duration": 21,
    "start_time": "2022-02-06T16:04:56.476Z"
   },
   {
    "duration": 30,
    "start_time": "2022-02-06T16:04:56.499Z"
   },
   {
    "duration": 63,
    "start_time": "2022-02-06T16:04:56.531Z"
   },
   {
    "duration": 11,
    "start_time": "2022-02-06T16:04:56.600Z"
   },
   {
    "duration": 6,
    "start_time": "2022-02-06T16:04:56.614Z"
   },
   {
    "duration": 46,
    "start_time": "2022-02-06T16:04:56.623Z"
   },
   {
    "duration": 200,
    "start_time": "2022-02-06T16:04:56.672Z"
   },
   {
    "duration": 2364,
    "start_time": "2022-02-06T16:04:56.875Z"
   },
   {
    "duration": 6,
    "start_time": "2022-02-06T16:04:59.241Z"
   },
   {
    "duration": 40,
    "start_time": "2022-02-06T16:04:59.249Z"
   },
   {
    "duration": 193,
    "start_time": "2022-02-06T16:04:59.292Z"
   },
   {
    "duration": 1999,
    "start_time": "2022-02-06T16:04:59.570Z"
   },
   {
    "duration": 102,
    "start_time": "2022-02-06T16:05:01.572Z"
   },
   {
    "duration": 1459,
    "start_time": "2022-02-06T16:05:01.677Z"
   },
   {
    "duration": 446,
    "start_time": "2022-02-06T16:05:14.712Z"
   },
   {
    "duration": 279,
    "start_time": "2022-02-06T16:05:58.169Z"
   },
   {
    "duration": 269,
    "start_time": "2022-02-06T16:06:06.464Z"
   },
   {
    "duration": 11928,
    "start_time": "2022-02-06T16:06:19.746Z"
   },
   {
    "duration": 24854,
    "start_time": "2022-02-06T16:06:42.547Z"
   },
   {
    "duration": 443336,
    "start_time": "2022-02-06T16:08:49.586Z"
   },
   {
    "duration": 291711,
    "start_time": "2022-02-06T16:16:29.141Z"
   },
   {
    "duration": 174913,
    "start_time": "2022-02-06T16:23:53.259Z"
   },
   {
    "duration": 5,
    "start_time": "2022-02-06T16:39:16.815Z"
   },
   {
    "duration": 647,
    "start_time": "2022-02-06T16:39:26.848Z"
   },
   {
    "duration": 6,
    "start_time": "2022-02-06T16:39:32.063Z"
   },
   {
    "duration": 597,
    "start_time": "2022-02-06T16:39:40.116Z"
   },
   {
    "duration": 6,
    "start_time": "2022-02-06T16:39:53.386Z"
   },
   {
    "duration": 617,
    "start_time": "2022-02-06T16:39:54.677Z"
   },
   {
    "duration": 255,
    "start_time": "2022-02-06T16:40:13.271Z"
   },
   {
    "duration": 7,
    "start_time": "2022-02-06T16:40:41.746Z"
   },
   {
    "duration": 8,
    "start_time": "2022-02-06T16:40:49.888Z"
   },
   {
    "duration": 231,
    "start_time": "2022-02-06T16:40:51.245Z"
   },
   {
    "duration": 2542,
    "start_time": "2022-02-06T16:41:21.266Z"
   },
   {
    "duration": 220,
    "start_time": "2022-02-06T16:42:09.252Z"
   },
   {
    "duration": 1775,
    "start_time": "2022-02-06T16:42:35.407Z"
   },
   {
    "duration": 164,
    "start_time": "2022-02-06T16:42:56.607Z"
   },
   {
    "duration": 1280,
    "start_time": "2022-02-06T16:43:11.843Z"
   },
   {
    "duration": 1726,
    "start_time": "2022-02-06T16:45:25.035Z"
   },
   {
    "duration": 83,
    "start_time": "2022-02-06T16:48:11.303Z"
   },
   {
    "duration": 10,
    "start_time": "2022-02-06T16:48:15.292Z"
   },
   {
    "duration": 142,
    "start_time": "2022-02-06T16:48:17.134Z"
   },
   {
    "duration": 2446,
    "start_time": "2022-02-06T16:48:19.337Z"
   },
   {
    "duration": 6,
    "start_time": "2022-02-06T16:48:21.786Z"
   },
   {
    "duration": 19,
    "start_time": "2022-02-06T16:48:53.414Z"
   },
   {
    "duration": 135,
    "start_time": "2022-02-06T16:48:56.537Z"
   },
   {
    "duration": 1715,
    "start_time": "2022-02-06T16:48:59.124Z"
   },
   {
    "duration": 120,
    "start_time": "2022-02-06T16:49:02.859Z"
   },
   {
    "duration": 1250,
    "start_time": "2022-02-06T16:49:05.630Z"
   },
   {
    "duration": 84,
    "start_time": "2022-02-06T16:52:29.164Z"
   },
   {
    "duration": 1246,
    "start_time": "2022-02-06T16:52:34.434Z"
   },
   {
    "duration": 7,
    "start_time": "2022-02-06T16:53:36.589Z"
   },
   {
    "duration": 116,
    "start_time": "2022-02-06T16:53:37.835Z"
   },
   {
    "duration": 1865,
    "start_time": "2022-02-06T16:53:43.624Z"
   },
   {
    "duration": 25,
    "start_time": "2022-02-06T16:54:07.481Z"
   },
   {
    "duration": 274,
    "start_time": "2022-02-06T16:55:48.273Z"
   },
   {
    "duration": 420,
    "start_time": "2022-02-06T16:57:07.060Z"
   },
   {
    "duration": 289,
    "start_time": "2022-02-06T16:58:10.062Z"
   },
   {
    "duration": 395,
    "start_time": "2022-02-06T16:58:22.020Z"
   },
   {
    "duration": 383,
    "start_time": "2022-02-06T16:59:36.093Z"
   },
   {
    "duration": 497,
    "start_time": "2022-02-06T16:59:42.004Z"
   },
   {
    "duration": 398,
    "start_time": "2022-02-06T16:59:48.171Z"
   },
   {
    "duration": 2428,
    "start_time": "2022-02-06T17:00:04.934Z"
   },
   {
    "duration": 2221,
    "start_time": "2022-02-06T17:00:39.671Z"
   },
   {
    "duration": 2140,
    "start_time": "2022-02-06T17:01:49.769Z"
   },
   {
    "duration": 1243,
    "start_time": "2022-02-07T17:32:59.207Z"
   },
   {
    "duration": 96,
    "start_time": "2022-02-07T17:33:00.807Z"
   },
   {
    "duration": 26,
    "start_time": "2022-02-07T17:33:06.678Z"
   },
   {
    "duration": 5,
    "start_time": "2022-02-07T17:33:27.032Z"
   },
   {
    "duration": 10,
    "start_time": "2022-02-07T18:00:30.452Z"
   },
   {
    "duration": 23,
    "start_time": "2022-02-07T18:01:11.851Z"
   },
   {
    "duration": 28,
    "start_time": "2022-02-07T18:01:17.003Z"
   },
   {
    "duration": 9,
    "start_time": "2022-02-07T18:02:17.791Z"
   },
   {
    "duration": 112,
    "start_time": "2022-02-07T18:04:28.858Z"
   },
   {
    "duration": 3,
    "start_time": "2022-02-07T18:04:32.935Z"
   },
   {
    "duration": 4,
    "start_time": "2022-02-07T18:04:49.893Z"
   },
   {
    "duration": 8,
    "start_time": "2022-02-07T18:05:27.504Z"
   },
   {
    "duration": 119,
    "start_time": "2022-02-07T18:05:54.281Z"
   },
   {
    "duration": 1757,
    "start_time": "2022-02-07T18:06:05.909Z"
   },
   {
    "duration": 4,
    "start_time": "2022-02-07T18:08:48.657Z"
   },
   {
    "duration": 14,
    "start_time": "2022-02-07T18:08:57.186Z"
   },
   {
    "duration": 148,
    "start_time": "2022-02-07T18:09:01.052Z"
   },
   {
    "duration": 1263,
    "start_time": "2022-02-07T18:09:06.367Z"
   },
   {
    "duration": 197,
    "start_time": "2022-02-07T18:09:55.401Z"
   },
   {
    "duration": 895,
    "start_time": "2022-02-07T18:09:57.692Z"
   },
   {
    "duration": 80,
    "start_time": "2022-02-07T18:21:58.280Z"
   },
   {
    "duration": 1312,
    "start_time": "2022-02-07T18:30:41.019Z"
   },
   {
    "duration": 93,
    "start_time": "2022-02-07T18:30:42.333Z"
   },
   {
    "duration": 29,
    "start_time": "2022-02-07T18:30:42.428Z"
   },
   {
    "duration": 4,
    "start_time": "2022-02-07T18:30:42.459Z"
   },
   {
    "duration": 17,
    "start_time": "2022-02-07T18:30:42.465Z"
   },
   {
    "duration": 21,
    "start_time": "2022-02-07T18:30:42.498Z"
   },
   {
    "duration": 26,
    "start_time": "2022-02-07T18:30:42.521Z"
   },
   {
    "duration": 7,
    "start_time": "2022-02-07T18:30:42.550Z"
   },
   {
    "duration": 24,
    "start_time": "2022-02-07T18:30:42.559Z"
   },
   {
    "duration": 34,
    "start_time": "2022-02-07T18:30:42.585Z"
   },
   {
    "duration": 22,
    "start_time": "2022-02-07T18:30:42.621Z"
   },
   {
    "duration": 61,
    "start_time": "2022-02-07T18:30:42.644Z"
   },
   {
    "duration": 1919,
    "start_time": "2022-02-07T18:30:42.707Z"
   },
   {
    "duration": 4,
    "start_time": "2022-02-07T18:30:44.628Z"
   },
   {
    "duration": 41,
    "start_time": "2022-02-07T18:30:44.634Z"
   },
   {
    "duration": 129,
    "start_time": "2022-02-07T18:30:44.678Z"
   },
   {
    "duration": 1256,
    "start_time": "2022-02-07T18:30:44.899Z"
   },
   {
    "duration": 145,
    "start_time": "2022-02-07T18:30:46.157Z"
   },
   {
    "duration": 992,
    "start_time": "2022-02-07T18:30:46.305Z"
   },
   {
    "duration": 24772,
    "start_time": "2022-02-07T18:30:47.300Z"
   },
   {
    "duration": 29549,
    "start_time": "2022-02-07T18:31:12.074Z"
   },
   {
    "duration": 17306,
    "start_time": "2022-02-07T18:31:41.625Z"
   },
   {
    "duration": 121901,
    "start_time": "2022-02-07T18:31:58.934Z"
   },
   {
    "duration": 1516,
    "start_time": "2022-02-07T18:34:00.837Z"
   },
   {
    "duration": 85,
    "start_time": "2022-02-08T18:23:12.097Z"
   },
   {
    "duration": 304,
    "start_time": "2022-02-08T18:23:19.250Z"
   },
   {
    "duration": 1195,
    "start_time": "2022-02-08T18:23:23.166Z"
   },
   {
    "duration": 82,
    "start_time": "2022-02-08T18:23:25.201Z"
   },
   {
    "duration": 25,
    "start_time": "2022-02-08T18:23:26.596Z"
   },
   {
    "duration": 5,
    "start_time": "2022-02-08T18:23:28.423Z"
   },
   {
    "duration": 11,
    "start_time": "2022-02-08T18:23:28.950Z"
   },
   {
    "duration": 22,
    "start_time": "2022-02-08T18:23:29.637Z"
   },
   {
    "duration": 26,
    "start_time": "2022-02-08T18:23:30.354Z"
   },
   {
    "duration": 12,
    "start_time": "2022-02-08T18:23:33.284Z"
   },
   {
    "duration": 4,
    "start_time": "2022-02-08T18:23:34.209Z"
   },
   {
    "duration": 6,
    "start_time": "2022-02-08T18:23:34.548Z"
   },
   {
    "duration": 10,
    "start_time": "2022-02-08T18:23:37.527Z"
   },
   {
    "duration": 332,
    "start_time": "2022-02-08T18:23:43.132Z"
   },
   {
    "duration": 535,
    "start_time": "2022-02-08T18:24:21.787Z"
   },
   {
    "duration": 1313,
    "start_time": "2022-02-08T18:24:42.788Z"
   },
   {
    "duration": 323,
    "start_time": "2022-02-08T18:25:12.559Z"
   },
   {
    "duration": 4,
    "start_time": "2022-02-08T18:25:23.300Z"
   },
   {
    "duration": 12,
    "start_time": "2022-02-08T18:25:24.760Z"
   },
   {
    "duration": 1639,
    "start_time": "2022-02-08T18:25:28.162Z"
   },
   {
    "duration": 6,
    "start_time": "2022-02-08T18:30:34.278Z"
   },
   {
    "duration": 7,
    "start_time": "2022-02-08T18:30:39.457Z"
   },
   {
    "duration": 7,
    "start_time": "2022-02-08T18:30:41.851Z"
   },
   {
    "duration": 6,
    "start_time": "2022-02-08T18:34:05.662Z"
   },
   {
    "duration": 494,
    "start_time": "2022-02-08T18:35:22.631Z"
   },
   {
    "duration": 5,
    "start_time": "2022-02-08T18:36:01.359Z"
   },
   {
    "duration": 632,
    "start_time": "2022-02-08T18:36:02.000Z"
   },
   {
    "duration": 5,
    "start_time": "2022-02-08T18:36:42.481Z"
   },
   {
    "duration": 14,
    "start_time": "2022-02-08T18:36:43.195Z"
   },
   {
    "duration": 15,
    "start_time": "2022-02-08T18:36:52.108Z"
   },
   {
    "duration": 4,
    "start_time": "2022-02-08T18:37:23.564Z"
   },
   {
    "duration": 4752,
    "start_time": "2022-02-08T18:38:54.241Z"
   },
   {
    "duration": 3507,
    "start_time": "2022-02-08T18:39:12.470Z"
   },
   {
    "duration": 6,
    "start_time": "2022-02-08T18:39:17.924Z"
   },
   {
    "duration": 6,
    "start_time": "2022-02-08T18:39:27.079Z"
   },
   {
    "duration": 6,
    "start_time": "2022-02-08T18:39:42.926Z"
   },
   {
    "duration": 6,
    "start_time": "2022-02-08T18:39:46.768Z"
   },
   {
    "duration": 313,
    "start_time": "2022-02-09T16:43:06.955Z"
   },
   {
    "duration": 13021,
    "start_time": "2022-02-09T16:43:17.598Z"
   },
   {
    "duration": 2279,
    "start_time": "2022-02-09T16:43:30.621Z"
   },
   {
    "duration": 311,
    "start_time": "2022-02-09T16:44:05.470Z"
   },
   {
    "duration": 191,
    "start_time": "2022-02-09T16:44:21.642Z"
   },
   {
    "duration": 83,
    "start_time": "2022-02-09T16:44:21.835Z"
   },
   {
    "duration": 18,
    "start_time": "2022-02-09T16:44:21.920Z"
   },
   {
    "duration": 2,
    "start_time": "2022-02-09T16:44:25.080Z"
   },
   {
    "duration": 290,
    "start_time": "2022-02-09T16:44:25.526Z"
   },
   {
    "duration": 10690,
    "start_time": "2022-02-09T16:44:37.840Z"
   },
   {
    "duration": 666,
    "start_time": "2022-02-09T16:45:17.086Z"
   },
   {
    "duration": 5,
    "start_time": "2022-02-09T16:53:38.188Z"
   },
   {
    "duration": 18,
    "start_time": "2022-02-09T16:57:52.064Z"
   },
   {
    "duration": 8,
    "start_time": "2022-02-09T16:58:02.466Z"
   },
   {
    "duration": 5,
    "start_time": "2022-02-09T16:58:13.866Z"
   },
   {
    "duration": 308,
    "start_time": "2022-02-09T16:58:22.529Z"
   },
   {
    "duration": 256,
    "start_time": "2022-02-09T16:58:27.561Z"
   },
   {
    "duration": 5,
    "start_time": "2022-02-09T16:58:30.848Z"
   },
   {
    "duration": 282,
    "start_time": "2022-02-09T16:58:41.321Z"
   },
   {
    "duration": 5,
    "start_time": "2022-02-09T16:58:44.230Z"
   },
   {
    "duration": 5,
    "start_time": "2022-02-09T16:58:56.639Z"
   },
   {
    "duration": 86,
    "start_time": "2022-02-09T16:58:56.646Z"
   },
   {
    "duration": 19,
    "start_time": "2022-02-09T16:58:56.734Z"
   },
   {
    "duration": 4,
    "start_time": "2022-02-09T16:58:56.755Z"
   },
   {
    "duration": 5,
    "start_time": "2022-02-09T16:58:59.605Z"
   },
   {
    "duration": 10,
    "start_time": "2022-02-09T16:59:25.829Z"
   },
   {
    "duration": 5,
    "start_time": "2022-02-09T16:59:29.229Z"
   },
   {
    "duration": 12,
    "start_time": "2022-02-09T17:00:44.468Z"
   },
   {
    "duration": 5,
    "start_time": "2022-02-09T17:00:48.516Z"
   },
   {
    "duration": 116,
    "start_time": "2022-02-09T17:00:48.523Z"
   },
   {
    "duration": 27,
    "start_time": "2022-02-09T17:00:48.641Z"
   },
   {
    "duration": 6,
    "start_time": "2022-02-09T17:00:48.670Z"
   },
   {
    "duration": 12,
    "start_time": "2022-02-09T17:00:50.032Z"
   },
   {
    "duration": 21,
    "start_time": "2022-02-09T17:05:19.953Z"
   },
   {
    "duration": 17,
    "start_time": "2022-02-09T17:05:21.779Z"
   },
   {
    "duration": 311,
    "start_time": "2022-02-09T17:20:25.193Z"
   },
   {
    "duration": 4,
    "start_time": "2022-02-09T17:20:29.462Z"
   },
   {
    "duration": 3,
    "start_time": "2022-02-09T17:21:05.636Z"
   },
   {
    "duration": 8,
    "start_time": "2022-02-09T17:21:06.346Z"
   },
   {
    "duration": 273,
    "start_time": "2022-02-09T17:21:07.531Z"
   },
   {
    "duration": 1457,
    "start_time": "2022-02-09T17:21:14.834Z"
   },
   {
    "duration": 341,
    "start_time": "2022-02-09T17:21:20.822Z"
   },
   {
    "duration": 5,
    "start_time": "2022-02-09T17:23:11.113Z"
   },
   {
    "duration": 78,
    "start_time": "2022-02-09T17:23:11.120Z"
   },
   {
    "duration": 33,
    "start_time": "2022-02-09T17:23:11.200Z"
   },
   {
    "duration": 4,
    "start_time": "2022-02-09T17:23:11.235Z"
   },
   {
    "duration": 12,
    "start_time": "2022-02-09T17:23:11.241Z"
   },
   {
    "duration": 19,
    "start_time": "2022-02-09T17:23:11.255Z"
   },
   {
    "duration": 3,
    "start_time": "2022-02-09T17:23:11.275Z"
   },
   {
    "duration": 17,
    "start_time": "2022-02-09T17:23:15.182Z"
   },
   {
    "duration": 5,
    "start_time": "2022-02-09T17:23:23.260Z"
   },
   {
    "duration": 5,
    "start_time": "2022-02-09T17:23:42.259Z"
   },
   {
    "duration": 82,
    "start_time": "2022-02-09T17:23:42.266Z"
   },
   {
    "duration": 20,
    "start_time": "2022-02-09T17:23:42.351Z"
   },
   {
    "duration": 5,
    "start_time": "2022-02-09T17:23:42.373Z"
   },
   {
    "duration": 12,
    "start_time": "2022-02-09T17:23:42.379Z"
   },
   {
    "duration": 43,
    "start_time": "2022-02-09T17:23:42.393Z"
   },
   {
    "duration": 3,
    "start_time": "2022-02-09T17:23:42.438Z"
   },
   {
    "duration": 8,
    "start_time": "2022-02-09T17:23:46.480Z"
   },
   {
    "duration": 18,
    "start_time": "2022-02-09T17:23:46.490Z"
   },
   {
    "duration": 17,
    "start_time": "2022-02-09T17:23:50.263Z"
   },
   {
    "duration": 20,
    "start_time": "2022-02-09T17:23:53.315Z"
   },
   {
    "duration": 12,
    "start_time": "2022-02-09T17:24:04.429Z"
   },
   {
    "duration": 6,
    "start_time": "2022-02-09T17:24:29.196Z"
   },
   {
    "duration": 90,
    "start_time": "2022-02-09T17:24:29.204Z"
   },
   {
    "duration": 38,
    "start_time": "2022-02-09T17:24:29.296Z"
   },
   {
    "duration": 4,
    "start_time": "2022-02-09T17:24:29.336Z"
   },
   {
    "duration": 13,
    "start_time": "2022-02-09T17:24:29.342Z"
   },
   {
    "duration": 24,
    "start_time": "2022-02-09T17:24:29.356Z"
   },
   {
    "duration": 3,
    "start_time": "2022-02-09T17:24:29.382Z"
   },
   {
    "duration": 11,
    "start_time": "2022-02-09T17:24:29.387Z"
   },
   {
    "duration": 16,
    "start_time": "2022-02-09T17:24:29.419Z"
   },
   {
    "duration": 21,
    "start_time": "2022-02-09T17:24:30.783Z"
   },
   {
    "duration": 10,
    "start_time": "2022-02-09T17:24:56.692Z"
   },
   {
    "duration": 10,
    "start_time": "2022-02-09T17:28:20.309Z"
   },
   {
    "duration": 6,
    "start_time": "2022-02-09T17:28:28.098Z"
   },
   {
    "duration": 6,
    "start_time": "2022-02-09T17:28:39.264Z"
   },
   {
    "duration": 4,
    "start_time": "2022-02-09T17:28:44.747Z"
   },
   {
    "duration": 7,
    "start_time": "2022-02-09T17:28:45.288Z"
   },
   {
    "duration": 10,
    "start_time": "2022-02-09T17:28:46.331Z"
   },
   {
    "duration": 6,
    "start_time": "2022-02-09T17:28:48.543Z"
   },
   {
    "duration": 4,
    "start_time": "2022-02-09T17:29:01.163Z"
   },
   {
    "duration": 171,
    "start_time": "2022-02-09T17:29:05.951Z"
   },
   {
    "duration": 1662,
    "start_time": "2022-02-09T17:29:09.935Z"
   },
   {
    "duration": 5,
    "start_time": "2022-02-09T17:29:19.722Z"
   },
   {
    "duration": 11,
    "start_time": "2022-02-09T17:29:20.834Z"
   },
   {
    "duration": 119,
    "start_time": "2022-02-09T17:29:22.111Z"
   },
   {
    "duration": 1143,
    "start_time": "2022-02-09T17:29:24.489Z"
   },
   {
    "duration": 6,
    "start_time": "2022-02-09T17:32:16.769Z"
   },
   {
    "duration": 4,
    "start_time": "2022-02-09T17:32:29.441Z"
   },
   {
    "duration": 10,
    "start_time": "2022-02-09T17:32:34.180Z"
   },
   {
    "duration": 5,
    "start_time": "2022-02-09T17:32:35.214Z"
   },
   {
    "duration": 5,
    "start_time": "2022-02-09T17:33:20.913Z"
   },
   {
    "duration": 371,
    "start_time": "2022-02-09T17:33:45.172Z"
   },
   {
    "duration": 288,
    "start_time": "2022-02-09T17:33:59.499Z"
   },
   {
    "duration": 7,
    "start_time": "2022-02-09T17:34:06.388Z"
   },
   {
    "duration": 7,
    "start_time": "2022-02-09T17:34:27.307Z"
   },
   {
    "duration": 12,
    "start_time": "2022-02-09T17:35:04.249Z"
   },
   {
    "duration": 8,
    "start_time": "2022-02-09T17:35:05.453Z"
   },
   {
    "duration": 89,
    "start_time": "2022-02-09T17:35:36.231Z"
   },
   {
    "duration": 445,
    "start_time": "2022-02-09T17:35:47.425Z"
   },
   {
    "duration": 17,
    "start_time": "2022-02-09T17:36:41.113Z"
   },
   {
    "duration": 6,
    "start_time": "2022-02-09T17:36:47.673Z"
   },
   {
    "duration": 16,
    "start_time": "2022-02-09T17:36:54.810Z"
   },
   {
    "duration": 68,
    "start_time": "2022-02-09T17:37:06.755Z"
   },
   {
    "duration": 824,
    "start_time": "2022-02-09T17:37:13.344Z"
   },
   {
    "duration": 8663,
    "start_time": "2022-02-09T17:37:49.527Z"
   },
   {
    "duration": 9143,
    "start_time": "2022-02-09T17:38:54.667Z"
   },
   {
    "duration": 5584,
    "start_time": "2022-02-09T17:39:37.750Z"
   },
   {
    "duration": 7296,
    "start_time": "2022-02-09T17:40:57.789Z"
   },
   {
    "duration": 4234,
    "start_time": "2022-02-09T17:41:21.537Z"
   },
   {
    "duration": 25088,
    "start_time": "2022-02-09T17:42:13.290Z"
   },
   {
    "duration": 1139,
    "start_time": "2022-02-09T17:43:25.858Z"
   },
   {
    "duration": 375,
    "start_time": "2022-02-09T17:43:39.117Z"
   },
   {
    "duration": 413,
    "start_time": "2022-02-09T17:44:22.549Z"
   },
   {
    "duration": 248,
    "start_time": "2022-02-09T17:57:54.228Z"
   },
   {
    "duration": 59,
    "start_time": "2022-02-09T17:58:32.399Z"
   },
   {
    "duration": 59,
    "start_time": "2022-02-09T17:58:54.044Z"
   },
   {
    "duration": 4,
    "start_time": "2022-02-09T17:59:02.124Z"
   },
   {
    "duration": 265,
    "start_time": "2022-02-09T17:59:23.555Z"
   },
   {
    "duration": 288,
    "start_time": "2022-02-09T18:00:02.015Z"
   },
   {
    "duration": 5,
    "start_time": "2022-02-09T18:00:14.032Z"
   },
   {
    "duration": 1542,
    "start_time": "2022-02-09T18:00:20.954Z"
   },
   {
    "duration": 334,
    "start_time": "2022-02-09T18:02:43.298Z"
   },
   {
    "duration": 946,
    "start_time": "2022-02-09T18:06:25.427Z"
   },
   {
    "duration": 941,
    "start_time": "2022-02-09T18:06:37.242Z"
   },
   {
    "duration": 1146,
    "start_time": "2022-02-09T18:06:48.276Z"
   },
   {
    "duration": 1141,
    "start_time": "2022-02-09T18:06:58.591Z"
   },
   {
    "duration": 907,
    "start_time": "2022-02-09T18:07:07.555Z"
   },
   {
    "duration": 1024,
    "start_time": "2022-02-09T18:08:00.355Z"
   },
   {
    "duration": 1671,
    "start_time": "2022-02-09T18:08:26.770Z"
   },
   {
    "duration": 2737,
    "start_time": "2022-02-09T18:09:11.367Z"
   },
   {
    "duration": 336,
    "start_time": "2022-02-09T18:10:08.957Z"
   },
   {
    "duration": 387,
    "start_time": "2022-02-09T18:10:23.176Z"
   },
   {
    "duration": 17274,
    "start_time": "2022-02-09T18:12:50.608Z"
   },
   {
    "duration": 2103,
    "start_time": "2022-02-09T18:13:47.737Z"
   },
   {
    "duration": 4,
    "start_time": "2022-02-09T18:14:47.948Z"
   },
   {
    "duration": 270,
    "start_time": "2022-02-09T18:14:47.954Z"
   },
   {
    "duration": 19,
    "start_time": "2022-02-09T18:14:48.226Z"
   },
   {
    "duration": 4,
    "start_time": "2022-02-09T18:14:48.247Z"
   },
   {
    "duration": 14,
    "start_time": "2022-02-09T18:14:48.253Z"
   },
   {
    "duration": 18,
    "start_time": "2022-02-09T18:14:48.268Z"
   },
   {
    "duration": 3,
    "start_time": "2022-02-09T18:14:48.287Z"
   },
   {
    "duration": 32,
    "start_time": "2022-02-09T18:14:48.292Z"
   },
   {
    "duration": 10,
    "start_time": "2022-02-09T18:14:48.326Z"
   },
   {
    "duration": 7,
    "start_time": "2022-02-09T18:14:48.337Z"
   },
   {
    "duration": 7,
    "start_time": "2022-02-09T18:14:48.345Z"
   },
   {
    "duration": 169,
    "start_time": "2022-02-09T18:14:48.353Z"
   },
   {
    "duration": 1705,
    "start_time": "2022-02-09T18:14:48.525Z"
   },
   {
    "duration": 4,
    "start_time": "2022-02-09T18:14:50.232Z"
   },
   {
    "duration": 20,
    "start_time": "2022-02-09T18:14:50.237Z"
   },
   {
    "duration": 158,
    "start_time": "2022-02-09T18:14:50.259Z"
   },
   {
    "duration": 1303,
    "start_time": "2022-02-09T18:14:50.421Z"
   },
   {
    "duration": 5,
    "start_time": "2022-02-09T18:14:51.726Z"
   },
   {
    "duration": 44,
    "start_time": "2022-02-09T18:14:51.732Z"
   },
   {
    "duration": 43,
    "start_time": "2022-02-09T18:14:51.778Z"
   },
   {
    "duration": 642,
    "start_time": "2022-02-09T18:14:51.823Z"
   },
   {
    "duration": 153,
    "start_time": "2022-02-09T18:14:52.467Z"
   },
   {
    "duration": 53,
    "start_time": "2022-02-09T18:14:54.666Z"
   },
   {
    "duration": 2057,
    "start_time": "2022-02-09T18:15:11.593Z"
   },
   {
    "duration": 359,
    "start_time": "2022-02-09T18:17:32.910Z"
   },
   {
    "duration": 291,
    "start_time": "2022-02-09T18:17:50.191Z"
   },
   {
    "duration": 1488,
    "start_time": "2022-02-09T18:18:18.212Z"
   },
   {
    "duration": 812,
    "start_time": "2022-02-09T18:18:29.198Z"
   },
   {
    "duration": 1508,
    "start_time": "2022-02-09T18:19:06.266Z"
   },
   {
    "duration": 2056,
    "start_time": "2022-02-09T18:19:21.552Z"
   },
   {
    "duration": 2919,
    "start_time": "2022-02-09T18:21:31.869Z"
   },
   {
    "duration": 867,
    "start_time": "2022-02-09T18:22:52.362Z"
   },
   {
    "duration": 840,
    "start_time": "2022-02-09T18:22:57.892Z"
   },
   {
    "duration": 911,
    "start_time": "2022-02-09T18:23:04.935Z"
   },
   {
    "duration": 817,
    "start_time": "2022-02-09T18:23:36.239Z"
   },
   {
    "duration": 831,
    "start_time": "2022-02-09T18:23:46.881Z"
   },
   {
    "duration": 982,
    "start_time": "2022-02-09T18:24:00.459Z"
   },
   {
    "duration": 3028,
    "start_time": "2022-02-09T18:24:47.665Z"
   },
   {
    "duration": 77,
    "start_time": "2022-02-09T18:25:17.345Z"
   },
   {
    "duration": 833,
    "start_time": "2022-02-09T18:25:19.022Z"
   },
   {
    "duration": 4,
    "start_time": "2022-02-09T18:26:21.202Z"
   },
   {
    "duration": 76,
    "start_time": "2022-02-09T18:26:21.208Z"
   },
   {
    "duration": 38,
    "start_time": "2022-02-09T18:26:21.286Z"
   },
   {
    "duration": 4,
    "start_time": "2022-02-09T18:26:21.327Z"
   },
   {
    "duration": 13,
    "start_time": "2022-02-09T18:26:21.332Z"
   },
   {
    "duration": 16,
    "start_time": "2022-02-09T18:26:21.347Z"
   },
   {
    "duration": 3,
    "start_time": "2022-02-09T18:26:21.365Z"
   },
   {
    "duration": 12,
    "start_time": "2022-02-09T18:26:21.370Z"
   },
   {
    "duration": 34,
    "start_time": "2022-02-09T18:26:21.384Z"
   },
   {
    "duration": 15,
    "start_time": "2022-02-09T18:26:21.420Z"
   },
   {
    "duration": 22,
    "start_time": "2022-02-09T18:26:21.437Z"
   },
   {
    "duration": 62,
    "start_time": "2022-02-09T18:26:21.461Z"
   },
   {
    "duration": 1808,
    "start_time": "2022-02-09T18:26:21.525Z"
   },
   {
    "duration": 4,
    "start_time": "2022-02-09T18:26:23.334Z"
   },
   {
    "duration": 38,
    "start_time": "2022-02-09T18:26:23.340Z"
   },
   {
    "duration": 148,
    "start_time": "2022-02-09T18:26:23.380Z"
   },
   {
    "duration": 1223,
    "start_time": "2022-02-09T18:26:23.531Z"
   },
   {
    "duration": 4,
    "start_time": "2022-02-09T18:26:31.438Z"
   },
   {
    "duration": 11,
    "start_time": "2022-02-09T18:26:32.424Z"
   },
   {
    "duration": 43,
    "start_time": "2022-02-09T18:26:33.377Z"
   },
   {
    "duration": 449,
    "start_time": "2022-02-09T18:26:34.565Z"
   },
   {
    "duration": 460,
    "start_time": "2022-02-09T18:26:38.772Z"
   },
   {
    "duration": 137,
    "start_time": "2022-02-09T18:26:39.590Z"
   },
   {
    "duration": 951,
    "start_time": "2022-02-09T18:26:41.384Z"
   },
   {
    "duration": 5330,
    "start_time": "2022-02-09T18:27:18.724Z"
   },
   {
    "duration": 9099,
    "start_time": "2022-02-09T18:27:30.104Z"
   },
   {
    "duration": 4,
    "start_time": "2022-02-09T18:30:01.178Z"
   },
   {
    "duration": 12,
    "start_time": "2022-02-09T18:30:01.911Z"
   },
   {
    "duration": 79,
    "start_time": "2022-02-09T18:30:02.548Z"
   },
   {
    "duration": 1190,
    "start_time": "2022-02-09T18:30:03.977Z"
   },
   {
    "duration": 4,
    "start_time": "2022-02-09T18:30:07.692Z"
   },
   {
    "duration": 10,
    "start_time": "2022-02-09T18:30:08.324Z"
   },
   {
    "duration": 62,
    "start_time": "2022-02-09T18:30:09.858Z"
   },
   {
    "duration": 474,
    "start_time": "2022-02-09T18:30:11.010Z"
   },
   {
    "duration": 116,
    "start_time": "2022-02-09T18:30:11.904Z"
   },
   {
    "duration": 903,
    "start_time": "2022-02-09T18:30:12.751Z"
   },
   {
    "duration": 9087,
    "start_time": "2022-02-09T18:30:24.603Z"
   },
   {
    "duration": 8153,
    "start_time": "2022-02-09T18:30:47.691Z"
   },
   {
    "duration": 5,
    "start_time": "2022-02-09T18:31:06.910Z"
   },
   {
    "duration": 80,
    "start_time": "2022-02-09T18:31:06.917Z"
   },
   {
    "duration": 34,
    "start_time": "2022-02-09T18:31:06.999Z"
   },
   {
    "duration": 4,
    "start_time": "2022-02-09T18:31:07.035Z"
   },
   {
    "duration": 13,
    "start_time": "2022-02-09T18:31:07.041Z"
   },
   {
    "duration": 19,
    "start_time": "2022-02-09T18:31:07.056Z"
   },
   {
    "duration": 4,
    "start_time": "2022-02-09T18:31:07.077Z"
   },
   {
    "duration": 39,
    "start_time": "2022-02-09T18:31:07.084Z"
   },
   {
    "duration": 9,
    "start_time": "2022-02-09T18:31:07.125Z"
   },
   {
    "duration": 11,
    "start_time": "2022-02-09T18:31:07.136Z"
   },
   {
    "duration": 4,
    "start_time": "2022-02-09T18:31:07.149Z"
   },
   {
    "duration": 166,
    "start_time": "2022-02-09T18:31:07.155Z"
   },
   {
    "duration": 1658,
    "start_time": "2022-02-09T18:31:07.323Z"
   },
   {
    "duration": 4,
    "start_time": "2022-02-09T18:31:08.983Z"
   },
   {
    "duration": 18,
    "start_time": "2022-02-09T18:31:08.989Z"
   },
   {
    "duration": 118,
    "start_time": "2022-02-09T18:31:09.008Z"
   },
   {
    "duration": 1243,
    "start_time": "2022-02-09T18:31:09.128Z"
   },
   {
    "duration": 4,
    "start_time": "2022-02-09T18:31:10.373Z"
   },
   {
    "duration": 24,
    "start_time": "2022-02-09T18:31:10.379Z"
   },
   {
    "duration": 115,
    "start_time": "2022-02-09T18:31:10.405Z"
   },
   {
    "duration": 560,
    "start_time": "2022-02-09T18:31:10.523Z"
   },
   {
    "duration": 135,
    "start_time": "2022-02-09T18:31:11.085Z"
   },
   {
    "duration": 960,
    "start_time": "2022-02-09T18:31:11.224Z"
   },
   {
    "duration": 8886,
    "start_time": "2022-02-09T18:31:12.186Z"
   },
   {
    "duration": 6,
    "start_time": "2022-02-09T18:32:26.984Z"
   },
   {
    "duration": 5,
    "start_time": "2022-02-09T18:32:51.396Z"
   },
   {
    "duration": 81,
    "start_time": "2022-02-09T18:32:51.403Z"
   },
   {
    "duration": 19,
    "start_time": "2022-02-09T18:32:51.486Z"
   },
   {
    "duration": 4,
    "start_time": "2022-02-09T18:32:51.519Z"
   },
   {
    "duration": 13,
    "start_time": "2022-02-09T18:32:51.525Z"
   },
   {
    "duration": 7,
    "start_time": "2022-02-09T18:32:51.539Z"
   },
   {
    "duration": 13,
    "start_time": "2022-02-09T18:33:05.135Z"
   },
   {
    "duration": 7,
    "start_time": "2022-02-09T18:33:08.260Z"
   },
   {
    "duration": 4,
    "start_time": "2022-02-09T18:33:12.743Z"
   },
   {
    "duration": 81,
    "start_time": "2022-02-09T18:33:12.750Z"
   },
   {
    "duration": 22,
    "start_time": "2022-02-09T18:33:12.834Z"
   },
   {
    "duration": 5,
    "start_time": "2022-02-09T18:33:12.858Z"
   },
   {
    "duration": 15,
    "start_time": "2022-02-09T18:33:12.865Z"
   },
   {
    "duration": 11,
    "start_time": "2022-02-09T18:33:14.065Z"
   },
   {
    "duration": 6,
    "start_time": "2022-02-09T18:33:15.770Z"
   },
   {
    "duration": 5,
    "start_time": "2022-02-09T18:33:29.423Z"
   },
   {
    "duration": 88,
    "start_time": "2022-02-09T18:33:29.431Z"
   },
   {
    "duration": 20,
    "start_time": "2022-02-09T18:33:29.522Z"
   },
   {
    "duration": 4,
    "start_time": "2022-02-09T18:33:29.544Z"
   },
   {
    "duration": 16,
    "start_time": "2022-02-09T18:33:29.549Z"
   },
   {
    "duration": 10,
    "start_time": "2022-02-09T18:33:31.234Z"
   },
   {
    "duration": 6,
    "start_time": "2022-02-09T18:33:32.970Z"
   },
   {
    "duration": 6,
    "start_time": "2022-02-09T18:33:37.770Z"
   },
   {
    "duration": 20,
    "start_time": "2022-02-09T18:33:41.395Z"
   },
   {
    "duration": 4,
    "start_time": "2022-02-09T18:33:42.369Z"
   },
   {
    "duration": 8,
    "start_time": "2022-02-09T18:33:42.683Z"
   },
   {
    "duration": 10,
    "start_time": "2022-02-09T18:33:43.500Z"
   },
   {
    "duration": 6,
    "start_time": "2022-02-09T18:33:46.439Z"
   },
   {
    "duration": 4,
    "start_time": "2022-02-09T18:33:48.717Z"
   },
   {
    "duration": 266,
    "start_time": "2022-02-09T18:33:49.225Z"
   },
   {
    "duration": 276,
    "start_time": "2022-02-09T18:33:52.290Z"
   },
   {
    "duration": 11,
    "start_time": "2022-02-09T18:34:01.915Z"
   },
   {
    "duration": 11,
    "start_time": "2022-02-09T18:34:23.795Z"
   },
   {
    "duration": 10,
    "start_time": "2022-02-09T18:34:26.278Z"
   },
   {
    "duration": 10,
    "start_time": "2022-02-09T18:34:27.398Z"
   },
   {
    "duration": 6,
    "start_time": "2022-02-09T18:34:29.044Z"
   },
   {
    "duration": 5,
    "start_time": "2022-02-09T18:34:31.346Z"
   },
   {
    "duration": 79,
    "start_time": "2022-02-09T18:34:31.354Z"
   },
   {
    "duration": 19,
    "start_time": "2022-02-09T18:34:31.435Z"
   },
   {
    "duration": 4,
    "start_time": "2022-02-09T18:34:31.457Z"
   },
   {
    "duration": 25,
    "start_time": "2022-02-09T18:34:31.463Z"
   },
   {
    "duration": 10,
    "start_time": "2022-02-09T18:34:32.330Z"
   },
   {
    "duration": 6,
    "start_time": "2022-02-09T18:34:32.856Z"
   },
   {
    "duration": 7,
    "start_time": "2022-02-09T18:34:34.330Z"
   },
   {
    "duration": 1032,
    "start_time": "2022-02-09T18:36:31.750Z"
   },
   {
    "duration": 1261,
    "start_time": "2022-02-10T17:24:23.794Z"
   },
   {
    "duration": 4,
    "start_time": "2022-02-10T17:24:42.335Z"
   },
   {
    "duration": 86,
    "start_time": "2022-02-10T17:24:42.358Z"
   },
   {
    "duration": 23,
    "start_time": "2022-02-10T17:24:42.446Z"
   },
   {
    "duration": 5,
    "start_time": "2022-02-10T17:24:42.471Z"
   },
   {
    "duration": 7,
    "start_time": "2022-02-10T17:25:11.116Z"
   },
   {
    "duration": 6,
    "start_time": "2022-02-10T17:25:34.454Z"
   },
   {
    "duration": 5,
    "start_time": "2022-02-10T17:25:43.548Z"
   },
   {
    "duration": 76,
    "start_time": "2022-02-10T17:27:13.874Z"
   },
   {
    "duration": 971,
    "start_time": "2022-02-10T17:27:28.007Z"
   },
   {
    "duration": 861,
    "start_time": "2022-02-10T17:27:49.878Z"
   },
   {
    "duration": 541,
    "start_time": "2022-02-10T17:29:24.195Z"
   },
   {
    "duration": 3302,
    "start_time": "2022-02-10T17:29:35.982Z"
   },
   {
    "duration": 5,
    "start_time": "2022-02-10T17:29:56.029Z"
   },
   {
    "duration": 3409,
    "start_time": "2022-02-10T17:30:33.313Z"
   },
   {
    "duration": 70,
    "start_time": "2022-02-10T17:33:33.215Z"
   },
   {
    "duration": 5,
    "start_time": "2022-02-10T17:33:39.798Z"
   },
   {
    "duration": 82,
    "start_time": "2022-02-10T17:33:39.805Z"
   },
   {
    "duration": 36,
    "start_time": "2022-02-10T17:33:39.890Z"
   },
   {
    "duration": 4,
    "start_time": "2022-02-10T17:33:39.928Z"
   },
   {
    "duration": 8,
    "start_time": "2022-02-10T17:33:39.934Z"
   },
   {
    "duration": 4,
    "start_time": "2022-02-10T17:33:39.944Z"
   },
   {
    "duration": 5,
    "start_time": "2022-02-10T17:33:41.809Z"
   },
   {
    "duration": 5,
    "start_time": "2022-02-10T17:33:42.379Z"
   },
   {
    "duration": 67,
    "start_time": "2022-02-10T17:33:46.093Z"
   },
   {
    "duration": 7,
    "start_time": "2022-02-10T17:33:50.336Z"
   },
   {
    "duration": 4,
    "start_time": "2022-02-10T17:34:36.549Z"
   },
   {
    "duration": 87,
    "start_time": "2022-02-10T17:34:36.555Z"
   },
   {
    "duration": 22,
    "start_time": "2022-02-10T17:34:36.644Z"
   },
   {
    "duration": 4,
    "start_time": "2022-02-10T17:34:36.668Z"
   },
   {
    "duration": 7,
    "start_time": "2022-02-10T17:34:36.673Z"
   },
   {
    "duration": 4,
    "start_time": "2022-02-10T17:34:36.682Z"
   },
   {
    "duration": 29,
    "start_time": "2022-02-10T17:34:36.687Z"
   },
   {
    "duration": 6,
    "start_time": "2022-02-10T17:34:37.824Z"
   },
   {
    "duration": 231,
    "start_time": "2022-02-10T17:34:40.314Z"
   },
   {
    "duration": 894,
    "start_time": "2022-02-10T17:35:29.868Z"
   },
   {
    "duration": 494,
    "start_time": "2022-02-10T17:37:54.611Z"
   },
   {
    "duration": 557,
    "start_time": "2022-02-10T17:38:09.146Z"
   },
   {
    "duration": 4,
    "start_time": "2022-02-10T17:38:17.180Z"
   },
   {
    "duration": 17,
    "start_time": "2022-02-10T17:38:32.202Z"
   },
   {
    "duration": 6,
    "start_time": "2022-02-10T17:38:42.854Z"
   },
   {
    "duration": 5,
    "start_time": "2022-02-10T17:38:49.460Z"
   },
   {
    "duration": 18,
    "start_time": "2022-02-10T17:39:08.919Z"
   },
   {
    "duration": 5,
    "start_time": "2022-02-10T17:39:13.185Z"
   },
   {
    "duration": 73,
    "start_time": "2022-02-10T17:39:13.192Z"
   },
   {
    "duration": 21,
    "start_time": "2022-02-10T17:39:13.267Z"
   },
   {
    "duration": 25,
    "start_time": "2022-02-10T17:39:13.290Z"
   },
   {
    "duration": 8,
    "start_time": "2022-02-10T17:39:13.316Z"
   },
   {
    "duration": 4,
    "start_time": "2022-02-10T17:39:13.326Z"
   },
   {
    "duration": 4,
    "start_time": "2022-02-10T17:39:13.332Z"
   },
   {
    "duration": 13,
    "start_time": "2022-02-10T17:39:13.338Z"
   },
   {
    "duration": 15,
    "start_time": "2022-02-10T17:39:14.681Z"
   },
   {
    "duration": 5,
    "start_time": "2022-02-10T17:39:20.298Z"
   },
   {
    "duration": 78,
    "start_time": "2022-02-10T17:39:20.305Z"
   },
   {
    "duration": 46,
    "start_time": "2022-02-10T17:39:20.386Z"
   },
   {
    "duration": 4,
    "start_time": "2022-02-10T17:39:20.434Z"
   },
   {
    "duration": 7,
    "start_time": "2022-02-10T17:39:20.440Z"
   },
   {
    "duration": 4,
    "start_time": "2022-02-10T17:39:20.448Z"
   },
   {
    "duration": 4,
    "start_time": "2022-02-10T17:39:20.454Z"
   },
   {
    "duration": 12,
    "start_time": "2022-02-10T17:39:20.460Z"
   },
   {
    "duration": 39,
    "start_time": "2022-02-10T17:39:20.474Z"
   },
   {
    "duration": 5,
    "start_time": "2022-02-10T17:39:20.515Z"
   },
   {
    "duration": 23,
    "start_time": "2022-02-10T17:39:20.522Z"
   },
   {
    "duration": 4,
    "start_time": "2022-02-10T17:39:20.546Z"
   },
   {
    "duration": 9,
    "start_time": "2022-02-10T17:39:20.551Z"
   },
   {
    "duration": 21,
    "start_time": "2022-02-10T17:39:20.562Z"
   },
   {
    "duration": 33,
    "start_time": "2022-02-10T17:39:20.584Z"
   },
   {
    "duration": 4,
    "start_time": "2022-02-10T17:39:20.619Z"
   },
   {
    "duration": 192,
    "start_time": "2022-02-10T17:39:20.625Z"
   },
   {
    "duration": -113,
    "start_time": "2022-02-10T17:39:20.932Z"
   },
   {
    "duration": -127,
    "start_time": "2022-02-10T17:39:20.947Z"
   },
   {
    "duration": -129,
    "start_time": "2022-02-10T17:39:20.950Z"
   },
   {
    "duration": -131,
    "start_time": "2022-02-10T17:39:20.953Z"
   },
   {
    "duration": -133,
    "start_time": "2022-02-10T17:39:20.956Z"
   },
   {
    "duration": -135,
    "start_time": "2022-02-10T17:39:20.959Z"
   },
   {
    "duration": -136,
    "start_time": "2022-02-10T17:39:20.961Z"
   },
   {
    "duration": -137,
    "start_time": "2022-02-10T17:39:20.963Z"
   },
   {
    "duration": -139,
    "start_time": "2022-02-10T17:39:20.966Z"
   },
   {
    "duration": -140,
    "start_time": "2022-02-10T17:39:20.968Z"
   },
   {
    "duration": -142,
    "start_time": "2022-02-10T17:39:20.971Z"
   },
   {
    "duration": -145,
    "start_time": "2022-02-10T17:39:20.974Z"
   },
   {
    "duration": -147,
    "start_time": "2022-02-10T17:39:20.977Z"
   },
   {
    "duration": -149,
    "start_time": "2022-02-10T17:39:20.980Z"
   },
   {
    "duration": -151,
    "start_time": "2022-02-10T17:39:20.983Z"
   },
   {
    "duration": -152,
    "start_time": "2022-02-10T17:39:20.985Z"
   },
   {
    "duration": -154,
    "start_time": "2022-02-10T17:39:20.988Z"
   },
   {
    "duration": -154,
    "start_time": "2022-02-10T17:39:20.990Z"
   },
   {
    "duration": 5,
    "start_time": "2022-02-10T17:39:40.508Z"
   },
   {
    "duration": 76,
    "start_time": "2022-02-10T17:39:40.515Z"
   },
   {
    "duration": 34,
    "start_time": "2022-02-10T17:39:40.593Z"
   },
   {
    "duration": 4,
    "start_time": "2022-02-10T17:39:40.629Z"
   },
   {
    "duration": 7,
    "start_time": "2022-02-10T17:39:40.635Z"
   },
   {
    "duration": 3,
    "start_time": "2022-02-10T17:39:40.644Z"
   },
   {
    "duration": 8,
    "start_time": "2022-02-10T17:39:40.649Z"
   },
   {
    "duration": 5,
    "start_time": "2022-02-10T17:39:43.120Z"
   },
   {
    "duration": 13,
    "start_time": "2022-02-10T17:39:45.996Z"
   },
   {
    "duration": 5,
    "start_time": "2022-02-10T17:41:53.988Z"
   },
   {
    "duration": 18,
    "start_time": "2022-02-10T17:42:06.663Z"
   },
   {
    "duration": 59,
    "start_time": "2022-02-10T17:42:18.113Z"
   },
   {
    "duration": 18,
    "start_time": "2022-02-10T17:42:21.955Z"
   },
   {
    "duration": 4,
    "start_time": "2022-02-10T17:42:35.534Z"
   },
   {
    "duration": 81,
    "start_time": "2022-02-10T17:42:35.540Z"
   },
   {
    "duration": 23,
    "start_time": "2022-02-10T17:42:35.623Z"
   },
   {
    "duration": 5,
    "start_time": "2022-02-10T17:42:35.648Z"
   },
   {
    "duration": 10,
    "start_time": "2022-02-10T17:42:35.654Z"
   },
   {
    "duration": 7,
    "start_time": "2022-02-10T17:42:37.122Z"
   },
   {
    "duration": 17,
    "start_time": "2022-02-10T17:42:38.244Z"
   },
   {
    "duration": 18,
    "start_time": "2022-02-10T17:43:15.791Z"
   },
   {
    "duration": 8,
    "start_time": "2022-02-10T17:43:33.457Z"
   },
   {
    "duration": 5,
    "start_time": "2022-02-10T17:43:38.066Z"
   },
   {
    "duration": 5,
    "start_time": "2022-02-10T17:44:25.087Z"
   },
   {
    "duration": 76,
    "start_time": "2022-02-10T17:44:25.094Z"
   },
   {
    "duration": 23,
    "start_time": "2022-02-10T17:44:25.172Z"
   },
   {
    "duration": 5,
    "start_time": "2022-02-10T17:44:25.213Z"
   },
   {
    "duration": 8,
    "start_time": "2022-02-10T17:44:25.220Z"
   },
   {
    "duration": 18,
    "start_time": "2022-02-10T17:44:25.230Z"
   },
   {
    "duration": 20,
    "start_time": "2022-02-10T17:44:26.770Z"
   },
   {
    "duration": 5,
    "start_time": "2022-02-10T17:44:27.383Z"
   },
   {
    "duration": 4,
    "start_time": "2022-02-10T17:44:29.020Z"
   },
   {
    "duration": 18,
    "start_time": "2022-02-10T17:44:31.925Z"
   },
   {
    "duration": 17,
    "start_time": "2022-02-10T17:45:08.794Z"
   },
   {
    "duration": 6,
    "start_time": "2022-02-10T17:45:15.294Z"
   },
   {
    "duration": 209,
    "start_time": "2022-02-10T17:45:57.001Z"
   },
   {
    "duration": 16,
    "start_time": "2022-02-10T17:46:44.047Z"
   },
   {
    "duration": 4,
    "start_time": "2022-02-10T17:46:48.484Z"
   },
   {
    "duration": 5,
    "start_time": "2022-02-10T17:46:52.579Z"
   },
   {
    "duration": 6,
    "start_time": "2022-02-10T17:46:55.017Z"
   },
   {
    "duration": 4,
    "start_time": "2022-02-10T17:46:55.794Z"
   },
   {
    "duration": 4,
    "start_time": "2022-02-10T17:47:18.008Z"
   },
   {
    "duration": 76,
    "start_time": "2022-02-10T17:47:18.014Z"
   },
   {
    "duration": 39,
    "start_time": "2022-02-10T17:47:18.092Z"
   },
   {
    "duration": 4,
    "start_time": "2022-02-10T17:47:18.133Z"
   },
   {
    "duration": 8,
    "start_time": "2022-02-10T17:47:18.139Z"
   },
   {
    "duration": 16,
    "start_time": "2022-02-10T17:47:18.149Z"
   },
   {
    "duration": 4,
    "start_time": "2022-02-10T17:47:18.168Z"
   },
   {
    "duration": 5,
    "start_time": "2022-02-10T17:47:18.173Z"
   },
   {
    "duration": 5,
    "start_time": "2022-02-10T17:47:19.839Z"
   },
   {
    "duration": 17,
    "start_time": "2022-02-10T17:47:21.313Z"
   },
   {
    "duration": 84,
    "start_time": "2022-02-10T17:47:50.118Z"
   },
   {
    "duration": 468,
    "start_time": "2022-02-10T17:48:04.801Z"
   },
   {
    "duration": 16,
    "start_time": "2022-02-10T17:48:16.467Z"
   },
   {
    "duration": 4,
    "start_time": "2022-02-10T17:51:39.446Z"
   },
   {
    "duration": 76,
    "start_time": "2022-02-10T17:51:39.452Z"
   },
   {
    "duration": 24,
    "start_time": "2022-02-10T17:51:39.530Z"
   },
   {
    "duration": 4,
    "start_time": "2022-02-10T17:51:39.556Z"
   },
   {
    "duration": 7,
    "start_time": "2022-02-10T17:51:39.562Z"
   },
   {
    "duration": 46,
    "start_time": "2022-02-10T17:51:39.571Z"
   },
   {
    "duration": 4,
    "start_time": "2022-02-10T17:51:39.619Z"
   },
   {
    "duration": 4,
    "start_time": "2022-02-10T17:51:40.949Z"
   },
   {
    "duration": 5,
    "start_time": "2022-02-10T17:51:41.487Z"
   },
   {
    "duration": 72,
    "start_time": "2022-02-10T17:51:42.661Z"
   },
   {
    "duration": 66,
    "start_time": "2022-02-10T17:53:08.787Z"
   },
   {
    "duration": 60,
    "start_time": "2022-02-10T17:53:25.191Z"
   },
   {
    "duration": 4,
    "start_time": "2022-02-10T17:53:28.443Z"
   },
   {
    "duration": 394,
    "start_time": "2022-02-10T17:53:41.304Z"
   },
   {
    "duration": 31,
    "start_time": "2022-02-10T17:54:04.457Z"
   },
   {
    "duration": 189,
    "start_time": "2022-02-10T17:54:24.941Z"
   },
   {
    "duration": 210,
    "start_time": "2022-02-10T17:54:34.198Z"
   },
   {
    "duration": 5,
    "start_time": "2022-02-10T17:54:47.907Z"
   },
   {
    "duration": 84,
    "start_time": "2022-02-10T17:54:47.914Z"
   },
   {
    "duration": 30,
    "start_time": "2022-02-10T17:54:48.000Z"
   },
   {
    "duration": 4,
    "start_time": "2022-02-10T17:54:48.032Z"
   },
   {
    "duration": 8,
    "start_time": "2022-02-10T17:54:48.038Z"
   },
   {
    "duration": 18,
    "start_time": "2022-02-10T17:54:48.047Z"
   },
   {
    "duration": 4,
    "start_time": "2022-02-10T17:54:48.066Z"
   },
   {
    "duration": 216,
    "start_time": "2022-02-10T17:54:51.182Z"
   },
   {
    "duration": 5,
    "start_time": "2022-02-10T17:54:55.630Z"
   },
   {
    "duration": 4,
    "start_time": "2022-02-10T17:55:03.673Z"
   },
   {
    "duration": 80,
    "start_time": "2022-02-10T17:55:03.679Z"
   },
   {
    "duration": 24,
    "start_time": "2022-02-10T17:55:03.763Z"
   },
   {
    "duration": 27,
    "start_time": "2022-02-10T17:55:03.789Z"
   },
   {
    "duration": 11,
    "start_time": "2022-02-10T17:55:03.817Z"
   },
   {
    "duration": 19,
    "start_time": "2022-02-10T17:55:03.830Z"
   },
   {
    "duration": 4,
    "start_time": "2022-02-10T17:55:03.851Z"
   },
   {
    "duration": 5,
    "start_time": "2022-02-10T17:55:05.709Z"
   },
   {
    "duration": 5,
    "start_time": "2022-02-10T17:55:06.173Z"
   },
   {
    "duration": 3,
    "start_time": "2022-02-10T17:56:21.542Z"
   },
   {
    "duration": 3,
    "start_time": "2022-02-10T17:56:34.353Z"
   },
   {
    "duration": 3,
    "start_time": "2022-02-10T17:56:41.654Z"
   },
   {
    "duration": 201,
    "start_time": "2022-02-10T17:56:46.208Z"
   },
   {
    "duration": 5,
    "start_time": "2022-02-10T17:56:56.018Z"
   },
   {
    "duration": 5,
    "start_time": "2022-02-10T17:57:24.594Z"
   },
   {
    "duration": 5,
    "start_time": "2022-02-10T17:57:32.880Z"
   },
   {
    "duration": 190,
    "start_time": "2022-02-10T17:57:54.997Z"
   },
   {
    "duration": 5,
    "start_time": "2022-02-10T17:58:06.225Z"
   },
   {
    "duration": 5,
    "start_time": "2022-02-10T17:58:19.580Z"
   },
   {
    "duration": 5,
    "start_time": "2022-02-10T17:58:21.623Z"
   },
   {
    "duration": 190,
    "start_time": "2022-02-10T17:58:46.133Z"
   },
   {
    "duration": 198,
    "start_time": "2022-02-10T17:58:50.243Z"
   },
   {
    "duration": 5,
    "start_time": "2022-02-10T17:59:05.675Z"
   },
   {
    "duration": 205,
    "start_time": "2022-02-10T17:59:28.270Z"
   },
   {
    "duration": 4,
    "start_time": "2022-02-10T17:59:39.673Z"
   },
   {
    "duration": 200,
    "start_time": "2022-02-10T17:59:58.578Z"
   },
   {
    "duration": 5,
    "start_time": "2022-02-10T18:00:14.104Z"
   },
   {
    "duration": 5,
    "start_time": "2022-02-10T18:00:17.485Z"
   },
   {
    "duration": 4,
    "start_time": "2022-02-10T18:00:43.338Z"
   },
   {
    "duration": 5,
    "start_time": "2022-02-10T18:00:51.318Z"
   },
   {
    "duration": 192,
    "start_time": "2022-02-10T18:02:27.033Z"
   },
   {
    "duration": 5,
    "start_time": "2022-02-10T18:02:34.994Z"
   },
   {
    "duration": 5,
    "start_time": "2022-02-10T18:02:43.640Z"
   },
   {
    "duration": 5,
    "start_time": "2022-02-10T18:03:50.106Z"
   },
   {
    "duration": 82,
    "start_time": "2022-02-10T18:03:50.113Z"
   },
   {
    "duration": 38,
    "start_time": "2022-02-10T18:03:50.198Z"
   },
   {
    "duration": 5,
    "start_time": "2022-02-10T18:03:50.239Z"
   },
   {
    "duration": 9,
    "start_time": "2022-02-10T18:03:50.246Z"
   },
   {
    "duration": 20,
    "start_time": "2022-02-10T18:03:50.257Z"
   },
   {
    "duration": 19,
    "start_time": "2022-02-10T18:03:51.821Z"
   },
   {
    "duration": 4,
    "start_time": "2022-02-10T18:03:56.876Z"
   },
   {
    "duration": 326,
    "start_time": "2022-02-10T18:03:58.616Z"
   },
   {
    "duration": 7,
    "start_time": "2022-02-10T18:04:01.032Z"
   },
   {
    "duration": 6,
    "start_time": "2022-02-10T18:04:03.281Z"
   },
   {
    "duration": 5,
    "start_time": "2022-02-10T18:04:23.530Z"
   },
   {
    "duration": 84,
    "start_time": "2022-02-10T18:04:23.537Z"
   },
   {
    "duration": 24,
    "start_time": "2022-02-10T18:04:23.623Z"
   },
   {
    "duration": 5,
    "start_time": "2022-02-10T18:04:23.649Z"
   },
   {
    "duration": 12,
    "start_time": "2022-02-10T18:04:23.655Z"
   },
   {
    "duration": 48,
    "start_time": "2022-02-10T18:04:23.669Z"
   },
   {
    "duration": 4,
    "start_time": "2022-02-10T18:04:23.719Z"
   },
   {
    "duration": 352,
    "start_time": "2022-02-10T18:04:23.725Z"
   },
   {
    "duration": 7,
    "start_time": "2022-02-10T18:04:26.650Z"
   },
   {
    "duration": 5,
    "start_time": "2022-02-10T18:04:31.712Z"
   },
   {
    "duration": 85,
    "start_time": "2022-02-10T18:04:31.719Z"
   },
   {
    "duration": 24,
    "start_time": "2022-02-10T18:04:31.812Z"
   },
   {
    "duration": 4,
    "start_time": "2022-02-10T18:04:31.838Z"
   },
   {
    "duration": 8,
    "start_time": "2022-02-10T18:04:31.844Z"
   },
   {
    "duration": 20,
    "start_time": "2022-02-10T18:04:31.853Z"
   },
   {
    "duration": 4,
    "start_time": "2022-02-10T18:04:31.874Z"
   },
   {
    "duration": 353,
    "start_time": "2022-02-10T18:04:31.912Z"
   },
   {
    "duration": 7,
    "start_time": "2022-02-10T18:04:32.268Z"
   },
   {
    "duration": 8,
    "start_time": "2022-02-10T18:04:36.057Z"
   },
   {
    "duration": 5,
    "start_time": "2022-02-10T18:04:43.832Z"
   },
   {
    "duration": 88,
    "start_time": "2022-02-10T18:04:43.839Z"
   },
   {
    "duration": 22,
    "start_time": "2022-02-10T18:04:43.929Z"
   },
   {
    "duration": 4,
    "start_time": "2022-02-10T18:04:43.953Z"
   },
   {
    "duration": 18,
    "start_time": "2022-02-10T18:04:43.959Z"
   },
   {
    "duration": 35,
    "start_time": "2022-02-10T18:04:43.978Z"
   },
   {
    "duration": 4,
    "start_time": "2022-02-10T18:04:44.015Z"
   },
   {
    "duration": 343,
    "start_time": "2022-02-10T18:04:44.021Z"
   },
   {
    "duration": 6,
    "start_time": "2022-02-10T18:04:44.365Z"
   },
   {
    "duration": 24,
    "start_time": "2022-02-10T18:05:03.123Z"
   },
   {
    "duration": 5,
    "start_time": "2022-02-10T18:09:11.643Z"
   },
   {
    "duration": 76,
    "start_time": "2022-02-10T18:09:11.649Z"
   },
   {
    "duration": 24,
    "start_time": "2022-02-10T18:09:11.726Z"
   },
   {
    "duration": 4,
    "start_time": "2022-02-10T18:09:11.752Z"
   },
   {
    "duration": 341,
    "start_time": "2022-02-10T18:09:13.523Z"
   },
   {
    "duration": 19,
    "start_time": "2022-02-10T18:09:19.125Z"
   },
   {
    "duration": 3,
    "start_time": "2022-02-10T18:09:20.815Z"
   },
   {
    "duration": 9,
    "start_time": "2022-02-10T18:09:21.770Z"
   },
   {
    "duration": 19,
    "start_time": "2022-02-10T18:09:23.087Z"
   },
   {
    "duration": 7,
    "start_time": "2022-02-10T18:09:30.603Z"
   },
   {
    "duration": 3,
    "start_time": "2022-02-10T18:09:31.847Z"
   },
   {
    "duration": 41,
    "start_time": "2022-02-10T18:09:33.885Z"
   },
   {
    "duration": 1637,
    "start_time": "2022-02-10T18:09:37.562Z"
   },
   {
    "duration": 4,
    "start_time": "2022-02-10T18:09:47.226Z"
   },
   {
    "duration": 13,
    "start_time": "2022-02-10T18:09:48.187Z"
   },
   {
    "duration": 94,
    "start_time": "2022-02-10T18:09:48.827Z"
   },
   {
    "duration": 1160,
    "start_time": "2022-02-10T18:09:51.581Z"
   },
   {
    "duration": 4,
    "start_time": "2022-02-10T18:10:01.625Z"
   },
   {
    "duration": 14,
    "start_time": "2022-02-10T18:10:03.904Z"
   },
   {
    "duration": 30,
    "start_time": "2022-02-10T18:10:10.683Z"
   },
   {
    "duration": 464,
    "start_time": "2022-02-10T18:10:13.701Z"
   },
   {
    "duration": 188,
    "start_time": "2022-02-10T18:10:19.623Z"
   },
   {
    "duration": 856,
    "start_time": "2022-02-10T18:10:20.298Z"
   },
   {
    "duration": 9205,
    "start_time": "2022-02-10T18:10:26.998Z"
   },
   {
    "duration": 7777,
    "start_time": "2022-02-10T18:11:21.735Z"
   },
   {
    "duration": 4428,
    "start_time": "2022-02-10T18:11:42.734Z"
   },
   {
    "duration": 25670,
    "start_time": "2022-02-10T18:11:54.545Z"
   },
   {
    "duration": 7576,
    "start_time": "2022-02-10T18:12:33.336Z"
   },
   {
    "duration": 9647,
    "start_time": "2022-02-10T18:13:08.568Z"
   },
   {
    "duration": 59432,
    "start_time": "2022-02-10T18:13:40.365Z"
   },
   {
    "duration": 396,
    "start_time": "2022-02-10T18:15:28.332Z"
   },
   {
    "duration": 1470,
    "start_time": "2022-02-10T18:15:47.981Z"
   },
   {
    "duration": 802,
    "start_time": "2022-02-10T18:16:20.363Z"
   },
   {
    "duration": 1443,
    "start_time": "2022-02-10T18:16:27.432Z"
   },
   {
    "duration": 1362,
    "start_time": "2022-02-10T18:16:38.852Z"
   },
   {
    "duration": 1414,
    "start_time": "2022-02-10T18:16:49.967Z"
   },
   {
    "duration": 1404,
    "start_time": "2022-02-10T18:18:01.497Z"
   },
   {
    "duration": 1477,
    "start_time": "2022-02-10T18:18:15.446Z"
   },
   {
    "duration": 1471,
    "start_time": "2022-02-10T18:18:22.149Z"
   },
   {
    "duration": 187,
    "start_time": "2022-02-10T18:23:18.944Z"
   },
   {
    "duration": 195,
    "start_time": "2022-02-10T18:23:39.543Z"
   },
   {
    "duration": 202,
    "start_time": "2022-02-10T18:24:08.110Z"
   },
   {
    "duration": 1353,
    "start_time": "2022-02-10T18:24:19.148Z"
   },
   {
    "duration": 1314,
    "start_time": "2022-02-10T18:24:37.872Z"
   },
   {
    "duration": 193,
    "start_time": "2022-02-10T18:24:42.787Z"
   },
   {
    "duration": 191,
    "start_time": "2022-02-10T18:24:55.118Z"
   },
   {
    "duration": 182,
    "start_time": "2022-02-10T18:25:00.712Z"
   },
   {
    "duration": 235,
    "start_time": "2022-02-10T18:25:19.895Z"
   },
   {
    "duration": 198,
    "start_time": "2022-02-10T18:25:25.660Z"
   },
   {
    "duration": 4,
    "start_time": "2022-02-10T18:25:30.282Z"
   },
   {
    "duration": 401,
    "start_time": "2022-02-10T18:25:34.713Z"
   },
   {
    "duration": 201,
    "start_time": "2022-02-10T18:25:39.825Z"
   },
   {
    "duration": 193,
    "start_time": "2022-02-10T18:25:53.446Z"
   },
   {
    "duration": 4,
    "start_time": "2022-02-10T18:26:22.759Z"
   },
   {
    "duration": 4,
    "start_time": "2022-02-10T18:26:28.186Z"
   },
   {
    "duration": 4,
    "start_time": "2022-02-10T18:26:34.830Z"
   },
   {
    "duration": 1306,
    "start_time": "2022-02-10T18:26:43.471Z"
   },
   {
    "duration": 196,
    "start_time": "2022-02-10T18:26:55.209Z"
   },
   {
    "duration": 69,
    "start_time": "2022-02-10T18:27:21.714Z"
   },
   {
    "duration": 2106,
    "start_time": "2022-02-10T18:29:36.911Z"
   },
   {
    "duration": 2092,
    "start_time": "2022-02-10T18:29:51.473Z"
   },
   {
    "duration": 2722,
    "start_time": "2022-02-10T18:30:53.178Z"
   },
   {
    "duration": 15,
    "start_time": "2022-02-10T18:38:19.410Z"
   },
   {
    "duration": 203,
    "start_time": "2022-02-10T18:42:07.768Z"
   },
   {
    "duration": 227,
    "start_time": "2022-02-10T18:42:15.066Z"
   },
   {
    "duration": 14,
    "start_time": "2022-02-10T18:42:27.941Z"
   },
   {
    "duration": 16,
    "start_time": "2022-02-10T18:42:34.235Z"
   },
   {
    "duration": 18,
    "start_time": "2022-02-10T18:42:46.763Z"
   },
   {
    "duration": 18,
    "start_time": "2022-02-10T18:43:08.510Z"
   },
   {
    "duration": 3,
    "start_time": "2022-02-10T18:43:15.654Z"
   },
   {
    "duration": 5,
    "start_time": "2022-02-10T18:43:21.363Z"
   },
   {
    "duration": 199,
    "start_time": "2022-02-10T18:43:51.455Z"
   },
   {
    "duration": 184,
    "start_time": "2022-02-10T18:46:05.598Z"
   },
   {
    "duration": 5,
    "start_time": "2022-02-10T18:47:47.756Z"
   },
   {
    "duration": 333,
    "start_time": "2022-02-10T18:49:27.589Z"
   },
   {
    "duration": 552,
    "start_time": "2022-02-10T18:49:52.260Z"
   },
   {
    "duration": 221,
    "start_time": "2022-02-10T18:50:12.424Z"
   },
   {
    "duration": 344,
    "start_time": "2022-02-10T18:50:46.323Z"
   },
   {
    "duration": 151,
    "start_time": "2022-02-10T18:52:13.422Z"
   },
   {
    "duration": 5,
    "start_time": "2022-02-10T18:55:27.364Z"
   },
   {
    "duration": 8,
    "start_time": "2022-02-10T18:55:33.537Z"
   },
   {
    "duration": 4,
    "start_time": "2022-02-10T18:55:44.577Z"
   },
   {
    "duration": 4873,
    "start_time": "2022-02-10T18:56:26.749Z"
   },
   {
    "duration": 10,
    "start_time": "2022-02-10T18:56:39.555Z"
   },
   {
    "duration": 4778,
    "start_time": "2022-02-10T18:56:46.336Z"
   },
   {
    "duration": 4768,
    "start_time": "2022-02-10T18:57:05.024Z"
   },
   {
    "duration": 17,
    "start_time": "2022-02-10T18:58:05.251Z"
   },
   {
    "duration": 353,
    "start_time": "2022-02-10T18:58:54.813Z"
   },
   {
    "duration": 391,
    "start_time": "2022-02-10T18:59:08.302Z"
   },
   {
    "duration": 350,
    "start_time": "2022-02-10T18:59:40.580Z"
   },
   {
    "duration": 338,
    "start_time": "2022-02-10T18:59:53.239Z"
   },
   {
    "duration": 357,
    "start_time": "2022-02-10T19:02:53.019Z"
   },
   {
    "duration": 5,
    "start_time": "2022-02-10T19:03:17.259Z"
   },
   {
    "duration": 7,
    "start_time": "2022-02-10T19:03:29.143Z"
   },
   {
    "duration": 230,
    "start_time": "2022-02-10T19:03:41.722Z"
   },
   {
    "duration": 339,
    "start_time": "2022-02-10T19:04:24.333Z"
   },
   {
    "duration": 305,
    "start_time": "2022-02-10T19:04:40.762Z"
   },
   {
    "duration": 348,
    "start_time": "2022-02-10T19:07:22.680Z"
   },
   {
    "duration": 336,
    "start_time": "2022-02-10T19:07:32.535Z"
   },
   {
    "duration": 501,
    "start_time": "2022-02-10T19:07:38.696Z"
   },
   {
    "duration": 339,
    "start_time": "2022-02-10T19:07:41.980Z"
   },
   {
    "duration": 245,
    "start_time": "2022-02-10T19:07:46.149Z"
   },
   {
    "duration": 340,
    "start_time": "2022-02-10T19:07:52.208Z"
   },
   {
    "duration": 334,
    "start_time": "2022-02-10T19:08:08.558Z"
   },
   {
    "duration": 344,
    "start_time": "2022-02-10T19:08:23.021Z"
   },
   {
    "duration": 355,
    "start_time": "2022-02-10T19:11:51.373Z"
   },
   {
    "duration": 422,
    "start_time": "2022-02-10T19:11:54.119Z"
   },
   {
    "duration": 338,
    "start_time": "2022-02-10T19:11:59.551Z"
   },
   {
    "duration": 347,
    "start_time": "2022-02-10T19:12:54.045Z"
   },
   {
    "duration": 66,
    "start_time": "2022-02-10T19:13:35.800Z"
   },
   {
    "duration": 375,
    "start_time": "2022-02-10T19:13:45.724Z"
   },
   {
    "duration": 218,
    "start_time": "2022-02-10T19:14:57.226Z"
   },
   {
    "duration": 378,
    "start_time": "2022-02-10T19:15:28.640Z"
   },
   {
    "duration": 229,
    "start_time": "2022-02-10T19:16:14.556Z"
   },
   {
    "duration": 376,
    "start_time": "2022-02-10T19:16:24.984Z"
   },
   {
    "duration": 390,
    "start_time": "2022-02-10T19:17:00.018Z"
   },
   {
    "duration": 381,
    "start_time": "2022-02-10T19:17:07.182Z"
   },
   {
    "duration": 381,
    "start_time": "2022-02-10T19:17:15.694Z"
   },
   {
    "duration": 377,
    "start_time": "2022-02-10T19:17:41.975Z"
   },
   {
    "duration": 379,
    "start_time": "2022-02-10T19:17:46.639Z"
   },
   {
    "duration": 484,
    "start_time": "2022-02-10T19:18:44.690Z"
   },
   {
    "duration": 1203,
    "start_time": "2022-02-10T19:25:10.735Z"
   },
   {
    "duration": 85,
    "start_time": "2022-02-10T19:25:11.940Z"
   },
   {
    "duration": 22,
    "start_time": "2022-02-10T19:25:12.029Z"
   },
   {
    "duration": 5,
    "start_time": "2022-02-10T19:25:12.053Z"
   },
   {
    "duration": 381,
    "start_time": "2022-02-10T19:25:12.059Z"
   },
   {
    "duration": 23,
    "start_time": "2022-02-10T19:25:12.441Z"
   },
   {
    "duration": 4,
    "start_time": "2022-02-10T19:25:12.468Z"
   },
   {
    "duration": 14,
    "start_time": "2022-02-10T19:25:12.474Z"
   },
   {
    "duration": 39,
    "start_time": "2022-02-10T19:25:12.490Z"
   },
   {
    "duration": 7,
    "start_time": "2022-02-10T19:25:12.531Z"
   },
   {
    "duration": 4,
    "start_time": "2022-02-10T19:25:12.540Z"
   },
   {
    "duration": 167,
    "start_time": "2022-02-10T19:25:12.546Z"
   },
   {
    "duration": 1785,
    "start_time": "2022-02-10T19:25:12.715Z"
   },
   {
    "duration": 11,
    "start_time": "2022-02-10T19:25:14.502Z"
   },
   {
    "duration": 18,
    "start_time": "2022-02-10T19:25:14.514Z"
   },
   {
    "duration": 85,
    "start_time": "2022-02-10T19:25:14.533Z"
   },
   {
    "duration": 1246,
    "start_time": "2022-02-10T19:25:14.620Z"
   },
   {
    "duration": 4,
    "start_time": "2022-02-10T19:25:15.868Z"
   },
   {
    "duration": 16,
    "start_time": "2022-02-10T19:25:15.874Z"
   },
   {
    "duration": 124,
    "start_time": "2022-02-10T19:25:15.892Z"
   },
   {
    "duration": 561,
    "start_time": "2022-02-10T19:25:16.019Z"
   },
   {
    "duration": 140,
    "start_time": "2022-02-10T19:25:16.582Z"
   },
   {
    "duration": 961,
    "start_time": "2022-02-10T19:25:16.725Z"
   },
   {
    "duration": 9193,
    "start_time": "2022-02-10T19:25:17.688Z"
   },
   {
    "duration": 7302,
    "start_time": "2022-02-10T19:25:26.882Z"
   },
   {
    "duration": 8899,
    "start_time": "2022-02-10T19:25:34.186Z"
   },
   {
    "duration": 56237,
    "start_time": "2022-02-10T19:25:43.086Z"
   },
   {
    "duration": 1373,
    "start_time": "2022-02-10T19:26:39.325Z"
   },
   {
    "duration": 412,
    "start_time": "2022-02-10T19:26:40.700Z"
   }
  ],
  "kernelspec": {
   "display_name": "Python 3 (ipykernel)",
   "language": "python",
   "name": "python3"
  },
  "language_info": {
   "codemirror_mode": {
    "name": "ipython",
    "version": 3
   },
   "file_extension": ".py",
   "mimetype": "text/x-python",
   "name": "python",
   "nbconvert_exporter": "python",
   "pygments_lexer": "ipython3",
   "version": "3.9.7"
  },
  "toc": {
   "base_numbering": 1,
   "nav_menu": {},
   "number_sections": true,
   "sideBar": true,
   "skip_h1_title": true,
   "title_cell": "Содержание",
   "title_sidebar": "Contents",
   "toc_cell": true,
   "toc_position": {
    "height": "calc(100% - 180px)",
    "left": "10px",
    "top": "150px",
    "width": "261.391px"
   },
   "toc_section_display": true,
   "toc_window_display": true
  }
 },
 "nbformat": 4,
 "nbformat_minor": 4
}
